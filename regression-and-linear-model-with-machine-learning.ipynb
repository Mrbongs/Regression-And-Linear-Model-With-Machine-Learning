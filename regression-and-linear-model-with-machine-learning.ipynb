{
 "cells": [
  {
   "cell_type": "code",
   "execution_count": 1,
   "id": "cc6dc5a7",
   "metadata": {
    "_cell_guid": "b1076dfc-b9ad-4769-8c92-a6c4dae69d19",
    "_uuid": "8f2839f25d086af736a60e9eeb907d3b93b6e0e5",
    "execution": {
     "iopub.execute_input": "2023-05-17T01:30:11.186859Z",
     "iopub.status.busy": "2023-05-17T01:30:11.186264Z",
     "iopub.status.idle": "2023-05-17T01:30:11.221106Z",
     "shell.execute_reply": "2023-05-17T01:30:11.219619Z"
    },
    "papermill": {
     "duration": 0.066901,
     "end_time": "2023-05-17T01:30:11.224505",
     "exception": false,
     "start_time": "2023-05-17T01:30:11.157604",
     "status": "completed"
    },
    "tags": []
   },
   "outputs": [
    {
     "name": "stdout",
     "output_type": "stream",
     "text": [
      "/kaggle/input/advertising/Advertising.csv\n",
      "/kaggle/input/my-datasets/advertising.csv\n",
      "/kaggle/input/hearingdata/hearing_test.csv\n"
     ]
    }
   ],
   "source": [
    "# This Python 3 environment comes with many helpful analytics libraries installed\n",
    "# It is defined by the kaggle/python Docker image: https://github.com/kaggle/docker-python\n",
    "# For example, here's several helpful packages to load\n",
    "\n",
    "import numpy as np # linear algebra\n",
    "import pandas as pd # data processing, CSV file I/O (e.g. pd.read_csv)\n",
    "\n",
    "# Input data files are available in the read-only \"../input/\" directory\n",
    "# For example, running this (by clicking run or pressing Shift+Enter) will list all files under the input directory\n",
    "\n",
    "import os\n",
    "for dirname, _, filenames in os.walk('/kaggle/input'):\n",
    "    for filename in filenames:\n",
    "        print(os.path.join(dirname, filename))\n",
    "\n",
    "# You can write up to 20GB to the current directory (/kaggle/working/) that gets preserved as output when you create a version using \"Save & Run All\" \n",
    "# You can also write temporary files to /kaggle/temp/, but they won't be saved outside of the current session"
   ]
  },
  {
   "cell_type": "markdown",
   "id": "e0a9cc34",
   "metadata": {
    "papermill": {
     "duration": 0.026286,
     "end_time": "2023-05-17T01:30:11.276108",
     "exception": false,
     "start_time": "2023-05-17T01:30:11.249822",
     "status": "completed"
    },
    "tags": []
   },
   "source": [
    "# Import Data"
   ]
  },
  {
   "cell_type": "code",
   "execution_count": 2,
   "id": "aac7f1fd",
   "metadata": {
    "execution": {
     "iopub.execute_input": "2023-05-17T01:30:11.328151Z",
     "iopub.status.busy": "2023-05-17T01:30:11.327671Z",
     "iopub.status.idle": "2023-05-17T01:30:11.359585Z",
     "shell.execute_reply": "2023-05-17T01:30:11.358176Z"
    },
    "papermill": {
     "duration": 0.061412,
     "end_time": "2023-05-17T01:30:11.362665",
     "exception": false,
     "start_time": "2023-05-17T01:30:11.301253",
     "status": "completed"
    },
    "tags": []
   },
   "outputs": [],
   "source": [
    "df = pd.read_csv('/kaggle/input/advertising/Advertising.csv')\n",
    "df2 = pd.read_csv('/kaggle/input/hearingdata/hearing_test.csv')"
   ]
  },
  {
   "cell_type": "markdown",
   "id": "888bf1e7",
   "metadata": {
    "papermill": {
     "duration": 0.024763,
     "end_time": "2023-05-17T01:30:11.411960",
     "exception": false,
     "start_time": "2023-05-17T01:30:11.387197",
     "status": "completed"
    },
    "tags": []
   },
   "source": [
    "# IMPORT LIBARY"
   ]
  },
  {
   "cell_type": "code",
   "execution_count": 3,
   "id": "c71e9d31",
   "metadata": {
    "execution": {
     "iopub.execute_input": "2023-05-17T01:30:11.464094Z",
     "iopub.status.busy": "2023-05-17T01:30:11.463649Z",
     "iopub.status.idle": "2023-05-17T01:30:12.957537Z",
     "shell.execute_reply": "2023-05-17T01:30:12.956145Z"
    },
    "papermill": {
     "duration": 1.524636,
     "end_time": "2023-05-17T01:30:12.960980",
     "exception": false,
     "start_time": "2023-05-17T01:30:11.436344",
     "status": "completed"
    },
    "tags": []
   },
   "outputs": [],
   "source": [
    "import pandas as pd\n",
    "import numpy as np\n",
    "import seaborn as sns\n",
    "import matplotlib.pyplot as plt\n",
    "%matplotlib inline"
   ]
  },
  {
   "cell_type": "code",
   "execution_count": 4,
   "id": "338793ae",
   "metadata": {
    "execution": {
     "iopub.execute_input": "2023-05-17T01:30:13.013215Z",
     "iopub.status.busy": "2023-05-17T01:30:13.012697Z",
     "iopub.status.idle": "2023-05-17T01:30:13.052286Z",
     "shell.execute_reply": "2023-05-17T01:30:13.050846Z"
    },
    "papermill": {
     "duration": 0.069076,
     "end_time": "2023-05-17T01:30:13.055309",
     "exception": false,
     "start_time": "2023-05-17T01:30:12.986233",
     "status": "completed"
    },
    "tags": []
   },
   "outputs": [
    {
     "data": {
      "text/html": [
       "<div>\n",
       "<style scoped>\n",
       "    .dataframe tbody tr th:only-of-type {\n",
       "        vertical-align: middle;\n",
       "    }\n",
       "\n",
       "    .dataframe tbody tr th {\n",
       "        vertical-align: top;\n",
       "    }\n",
       "\n",
       "    .dataframe thead th {\n",
       "        text-align: right;\n",
       "    }\n",
       "</style>\n",
       "<table border=\"1\" class=\"dataframe\">\n",
       "  <thead>\n",
       "    <tr style=\"text-align: right;\">\n",
       "      <th></th>\n",
       "      <th>TV</th>\n",
       "      <th>radio</th>\n",
       "      <th>newspaper</th>\n",
       "      <th>sales</th>\n",
       "    </tr>\n",
       "  </thead>\n",
       "  <tbody>\n",
       "    <tr>\n",
       "      <th>0</th>\n",
       "      <td>230.1</td>\n",
       "      <td>37.8</td>\n",
       "      <td>69.2</td>\n",
       "      <td>22.1</td>\n",
       "    </tr>\n",
       "    <tr>\n",
       "      <th>1</th>\n",
       "      <td>44.5</td>\n",
       "      <td>39.3</td>\n",
       "      <td>45.1</td>\n",
       "      <td>10.4</td>\n",
       "    </tr>\n",
       "    <tr>\n",
       "      <th>2</th>\n",
       "      <td>17.2</td>\n",
       "      <td>45.9</td>\n",
       "      <td>69.3</td>\n",
       "      <td>9.3</td>\n",
       "    </tr>\n",
       "    <tr>\n",
       "      <th>3</th>\n",
       "      <td>151.5</td>\n",
       "      <td>41.3</td>\n",
       "      <td>58.5</td>\n",
       "      <td>18.5</td>\n",
       "    </tr>\n",
       "    <tr>\n",
       "      <th>4</th>\n",
       "      <td>180.8</td>\n",
       "      <td>10.8</td>\n",
       "      <td>58.4</td>\n",
       "      <td>12.9</td>\n",
       "    </tr>\n",
       "    <tr>\n",
       "      <th>...</th>\n",
       "      <td>...</td>\n",
       "      <td>...</td>\n",
       "      <td>...</td>\n",
       "      <td>...</td>\n",
       "    </tr>\n",
       "    <tr>\n",
       "      <th>195</th>\n",
       "      <td>38.2</td>\n",
       "      <td>3.7</td>\n",
       "      <td>13.8</td>\n",
       "      <td>7.6</td>\n",
       "    </tr>\n",
       "    <tr>\n",
       "      <th>196</th>\n",
       "      <td>94.2</td>\n",
       "      <td>4.9</td>\n",
       "      <td>8.1</td>\n",
       "      <td>9.7</td>\n",
       "    </tr>\n",
       "    <tr>\n",
       "      <th>197</th>\n",
       "      <td>177.0</td>\n",
       "      <td>9.3</td>\n",
       "      <td>6.4</td>\n",
       "      <td>12.8</td>\n",
       "    </tr>\n",
       "    <tr>\n",
       "      <th>198</th>\n",
       "      <td>283.6</td>\n",
       "      <td>42.0</td>\n",
       "      <td>66.2</td>\n",
       "      <td>25.5</td>\n",
       "    </tr>\n",
       "    <tr>\n",
       "      <th>199</th>\n",
       "      <td>232.1</td>\n",
       "      <td>8.6</td>\n",
       "      <td>8.7</td>\n",
       "      <td>13.4</td>\n",
       "    </tr>\n",
       "  </tbody>\n",
       "</table>\n",
       "<p>200 rows × 4 columns</p>\n",
       "</div>"
      ],
      "text/plain": [
       "        TV  radio  newspaper  sales\n",
       "0    230.1   37.8       69.2   22.1\n",
       "1     44.5   39.3       45.1   10.4\n",
       "2     17.2   45.9       69.3    9.3\n",
       "3    151.5   41.3       58.5   18.5\n",
       "4    180.8   10.8       58.4   12.9\n",
       "..     ...    ...        ...    ...\n",
       "195   38.2    3.7       13.8    7.6\n",
       "196   94.2    4.9        8.1    9.7\n",
       "197  177.0    9.3        6.4   12.8\n",
       "198  283.6   42.0       66.2   25.5\n",
       "199  232.1    8.6        8.7   13.4\n",
       "\n",
       "[200 rows x 4 columns]"
      ]
     },
     "execution_count": 4,
     "metadata": {},
     "output_type": "execute_result"
    }
   ],
   "source": [
    "df"
   ]
  },
  {
   "cell_type": "markdown",
   "id": "5bcaeec3",
   "metadata": {
    "papermill": {
     "duration": 0.025778,
     "end_time": "2023-05-17T01:30:13.106137",
     "exception": false,
     "start_time": "2023-05-17T01:30:13.080359",
     "status": "completed"
    },
    "tags": []
   },
   "source": [
    "# Explatory Data Analysis"
   ]
  },
  {
   "cell_type": "code",
   "execution_count": 5,
   "id": "9ecaa61c",
   "metadata": {
    "execution": {
     "iopub.execute_input": "2023-05-17T01:30:13.158946Z",
     "iopub.status.busy": "2023-05-17T01:30:13.158519Z",
     "iopub.status.idle": "2023-05-17T01:30:13.184157Z",
     "shell.execute_reply": "2023-05-17T01:30:13.182315Z"
    },
    "papermill": {
     "duration": 0.055271,
     "end_time": "2023-05-17T01:30:13.187258",
     "exception": false,
     "start_time": "2023-05-17T01:30:13.131987",
     "status": "completed"
    },
    "tags": []
   },
   "outputs": [
    {
     "name": "stdout",
     "output_type": "stream",
     "text": [
      "<class 'pandas.core.frame.DataFrame'>\n",
      "RangeIndex: 200 entries, 0 to 199\n",
      "Data columns (total 4 columns):\n",
      " #   Column     Non-Null Count  Dtype  \n",
      "---  ------     --------------  -----  \n",
      " 0   TV         200 non-null    float64\n",
      " 1   radio      200 non-null    float64\n",
      " 2   newspaper  200 non-null    float64\n",
      " 3   sales      200 non-null    float64\n",
      "dtypes: float64(4)\n",
      "memory usage: 6.4 KB\n"
     ]
    }
   ],
   "source": [
    "df.info()"
   ]
  },
  {
   "cell_type": "code",
   "execution_count": 6,
   "id": "93f47af3",
   "metadata": {
    "execution": {
     "iopub.execute_input": "2023-05-17T01:30:13.239177Z",
     "iopub.status.busy": "2023-05-17T01:30:13.238648Z",
     "iopub.status.idle": "2023-05-17T01:30:13.247589Z",
     "shell.execute_reply": "2023-05-17T01:30:13.246143Z"
    },
    "papermill": {
     "duration": 0.038219,
     "end_time": "2023-05-17T01:30:13.250413",
     "exception": false,
     "start_time": "2023-05-17T01:30:13.212194",
     "status": "completed"
    },
    "tags": []
   },
   "outputs": [
    {
     "data": {
      "text/plain": [
       "(200, 4)"
      ]
     },
     "execution_count": 6,
     "metadata": {},
     "output_type": "execute_result"
    }
   ],
   "source": [
    "df.shape"
   ]
  },
  {
   "cell_type": "code",
   "execution_count": 7,
   "id": "083dc97a",
   "metadata": {
    "execution": {
     "iopub.execute_input": "2023-05-17T01:30:13.304213Z",
     "iopub.status.busy": "2023-05-17T01:30:13.303731Z",
     "iopub.status.idle": "2023-05-17T01:30:13.315250Z",
     "shell.execute_reply": "2023-05-17T01:30:13.313824Z"
    },
    "papermill": {
     "duration": 0.041914,
     "end_time": "2023-05-17T01:30:13.318408",
     "exception": false,
     "start_time": "2023-05-17T01:30:13.276494",
     "status": "completed"
    },
    "tags": []
   },
   "outputs": [
    {
     "data": {
      "text/plain": [
       "TV           0\n",
       "radio        0\n",
       "newspaper    0\n",
       "sales        0\n",
       "dtype: int64"
      ]
     },
     "execution_count": 7,
     "metadata": {},
     "output_type": "execute_result"
    }
   ],
   "source": [
    "df.isna().sum()"
   ]
  },
  {
   "cell_type": "code",
   "execution_count": 8,
   "id": "a7ce508f",
   "metadata": {
    "execution": {
     "iopub.execute_input": "2023-05-17T01:30:13.372028Z",
     "iopub.status.busy": "2023-05-17T01:30:13.371580Z",
     "iopub.status.idle": "2023-05-17T01:30:13.390545Z",
     "shell.execute_reply": "2023-05-17T01:30:13.388412Z"
    },
    "papermill": {
     "duration": 0.050239,
     "end_time": "2023-05-17T01:30:13.394249",
     "exception": false,
     "start_time": "2023-05-17T01:30:13.344010",
     "status": "completed"
    },
    "tags": []
   },
   "outputs": [
    {
     "data": {
      "text/plain": [
       "<bound method NDFrame.describe of         TV  radio  newspaper  sales\n",
       "0    230.1   37.8       69.2   22.1\n",
       "1     44.5   39.3       45.1   10.4\n",
       "2     17.2   45.9       69.3    9.3\n",
       "3    151.5   41.3       58.5   18.5\n",
       "4    180.8   10.8       58.4   12.9\n",
       "..     ...    ...        ...    ...\n",
       "195   38.2    3.7       13.8    7.6\n",
       "196   94.2    4.9        8.1    9.7\n",
       "197  177.0    9.3        6.4   12.8\n",
       "198  283.6   42.0       66.2   25.5\n",
       "199  232.1    8.6        8.7   13.4\n",
       "\n",
       "[200 rows x 4 columns]>"
      ]
     },
     "execution_count": 8,
     "metadata": {},
     "output_type": "execute_result"
    }
   ],
   "source": [
    "df.describe"
   ]
  },
  {
   "cell_type": "markdown",
   "id": "39cf9071",
   "metadata": {
    "papermill": {
     "duration": 0.025563,
     "end_time": "2023-05-17T01:30:13.446509",
     "exception": false,
     "start_time": "2023-05-17T01:30:13.420946",
     "status": "completed"
    },
    "tags": []
   },
   "source": [
    "Menambahkan Feature Spend dari total biaya iklan yang dikeluarkan"
   ]
  },
  {
   "cell_type": "code",
   "execution_count": 9,
   "id": "507df399",
   "metadata": {
    "execution": {
     "iopub.execute_input": "2023-05-17T01:30:13.500011Z",
     "iopub.status.busy": "2023-05-17T01:30:13.499261Z",
     "iopub.status.idle": "2023-05-17T01:30:13.518919Z",
     "shell.execute_reply": "2023-05-17T01:30:13.517676Z"
    },
    "papermill": {
     "duration": 0.049641,
     "end_time": "2023-05-17T01:30:13.521781",
     "exception": false,
     "start_time": "2023-05-17T01:30:13.472140",
     "status": "completed"
    },
    "tags": []
   },
   "outputs": [
    {
     "data": {
      "text/html": [
       "<div>\n",
       "<style scoped>\n",
       "    .dataframe tbody tr th:only-of-type {\n",
       "        vertical-align: middle;\n",
       "    }\n",
       "\n",
       "    .dataframe tbody tr th {\n",
       "        vertical-align: top;\n",
       "    }\n",
       "\n",
       "    .dataframe thead th {\n",
       "        text-align: right;\n",
       "    }\n",
       "</style>\n",
       "<table border=\"1\" class=\"dataframe\">\n",
       "  <thead>\n",
       "    <tr style=\"text-align: right;\">\n",
       "      <th></th>\n",
       "      <th>TV</th>\n",
       "      <th>radio</th>\n",
       "      <th>newspaper</th>\n",
       "      <th>sales</th>\n",
       "      <th>total_spend</th>\n",
       "    </tr>\n",
       "  </thead>\n",
       "  <tbody>\n",
       "    <tr>\n",
       "      <th>0</th>\n",
       "      <td>230.1</td>\n",
       "      <td>37.8</td>\n",
       "      <td>69.2</td>\n",
       "      <td>22.1</td>\n",
       "      <td>290.0</td>\n",
       "    </tr>\n",
       "    <tr>\n",
       "      <th>1</th>\n",
       "      <td>44.5</td>\n",
       "      <td>39.3</td>\n",
       "      <td>45.1</td>\n",
       "      <td>10.4</td>\n",
       "      <td>94.2</td>\n",
       "    </tr>\n",
       "    <tr>\n",
       "      <th>2</th>\n",
       "      <td>17.2</td>\n",
       "      <td>45.9</td>\n",
       "      <td>69.3</td>\n",
       "      <td>9.3</td>\n",
       "      <td>72.4</td>\n",
       "    </tr>\n",
       "    <tr>\n",
       "      <th>3</th>\n",
       "      <td>151.5</td>\n",
       "      <td>41.3</td>\n",
       "      <td>58.5</td>\n",
       "      <td>18.5</td>\n",
       "      <td>211.3</td>\n",
       "    </tr>\n",
       "    <tr>\n",
       "      <th>4</th>\n",
       "      <td>180.8</td>\n",
       "      <td>10.8</td>\n",
       "      <td>58.4</td>\n",
       "      <td>12.9</td>\n",
       "      <td>204.5</td>\n",
       "    </tr>\n",
       "  </tbody>\n",
       "</table>\n",
       "</div>"
      ],
      "text/plain": [
       "      TV  radio  newspaper  sales  total_spend\n",
       "0  230.1   37.8       69.2   22.1        290.0\n",
       "1   44.5   39.3       45.1   10.4         94.2\n",
       "2   17.2   45.9       69.3    9.3         72.4\n",
       "3  151.5   41.3       58.5   18.5        211.3\n",
       "4  180.8   10.8       58.4   12.9        204.5"
      ]
     },
     "execution_count": 9,
     "metadata": {},
     "output_type": "execute_result"
    }
   ],
   "source": [
    "df['total_spend']=df['TV']+df['radio']+df['sales']\n",
    "df.head()"
   ]
  },
  {
   "cell_type": "code",
   "execution_count": 10,
   "id": "b10a58c6",
   "metadata": {
    "execution": {
     "iopub.execute_input": "2023-05-17T01:30:13.577428Z",
     "iopub.status.busy": "2023-05-17T01:30:13.576221Z",
     "iopub.status.idle": "2023-05-17T01:30:14.051355Z",
     "shell.execute_reply": "2023-05-17T01:30:14.050057Z"
    },
    "papermill": {
     "duration": 0.506557,
     "end_time": "2023-05-17T01:30:14.054348",
     "exception": false,
     "start_time": "2023-05-17T01:30:13.547791",
     "status": "completed"
    },
    "tags": []
   },
   "outputs": [
    {
     "data": {
      "text/plain": [
       "<AxesSubplot:xlabel='total_spend', ylabel='sales'>"
      ]
     },
     "execution_count": 10,
     "metadata": {},
     "output_type": "execute_result"
    },
    {
     "data": {
      "image/png": "[encoded data removed]",
      "text/plain": [
       "<Figure size 640x480 with 1 Axes>"
      ]
     },
     "metadata": {},
     "output_type": "display_data"
    }
   ],
   "source": [
    "import seaborn as sns\n",
    "sns.regplot(x='total_spend',y='sales',data=df)"
   ]
  },
  {
   "cell_type": "code",
   "execution_count": 11,
   "id": "6b48df36",
   "metadata": {
    "execution": {
     "iopub.execute_input": "2023-05-17T01:30:14.110560Z",
     "iopub.status.busy": "2023-05-17T01:30:14.110057Z",
     "iopub.status.idle": "2023-05-17T01:30:14.115921Z",
     "shell.execute_reply": "2023-05-17T01:30:14.114645Z"
    },
    "papermill": {
     "duration": 0.037345,
     "end_time": "2023-05-17T01:30:14.118695",
     "exception": false,
     "start_time": "2023-05-17T01:30:14.081350",
     "status": "completed"
    },
    "tags": []
   },
   "outputs": [],
   "source": [
    "X = df['total_spend']\n",
    "y = df['sales']"
   ]
  },
  {
   "cell_type": "code",
   "execution_count": 12,
   "id": "332404e0",
   "metadata": {
    "execution": {
     "iopub.execute_input": "2023-05-17T01:30:14.175652Z",
     "iopub.status.busy": "2023-05-17T01:30:14.175170Z",
     "iopub.status.idle": "2023-05-17T01:30:14.184841Z",
     "shell.execute_reply": "2023-05-17T01:30:14.183462Z"
    },
    "papermill": {
     "duration": 0.041818,
     "end_time": "2023-05-17T01:30:14.187674",
     "exception": false,
     "start_time": "2023-05-17T01:30:14.145856",
     "status": "completed"
    },
    "tags": []
   },
   "outputs": [
    {
     "data": {
      "text/plain": [
       "array([0.04939508, 4.91755413])"
      ]
     },
     "execution_count": 12,
     "metadata": {},
     "output_type": "execute_result"
    }
   ],
   "source": [
    "np.polyfit(X,y,1)"
   ]
  },
  {
   "cell_type": "code",
   "execution_count": 13,
   "id": "8f0f3893",
   "metadata": {
    "execution": {
     "iopub.execute_input": "2023-05-17T01:30:14.243651Z",
     "iopub.status.busy": "2023-05-17T01:30:14.243213Z",
     "iopub.status.idle": "2023-05-17T01:30:14.251083Z",
     "shell.execute_reply": "2023-05-17T01:30:14.249748Z"
    },
    "papermill": {
     "duration": 0.039543,
     "end_time": "2023-05-17T01:30:14.254070",
     "exception": false,
     "start_time": "2023-05-17T01:30:14.214527",
     "status": "completed"
    },
    "tags": []
   },
   "outputs": [
    {
     "data": {
      "text/plain": [
       "5.36210985"
      ]
     },
     "execution_count": 13,
     "metadata": {},
     "output_type": "execute_result"
    }
   ],
   "source": [
    "x=9\n",
    "preidctedsales=0.04939508*x+4.91755413\n",
    "preidctedsales"
   ]
  },
  {
   "cell_type": "code",
   "execution_count": 14,
   "id": "589b21f5",
   "metadata": {
    "execution": {
     "iopub.execute_input": "2023-05-17T01:30:14.311784Z",
     "iopub.status.busy": "2023-05-17T01:30:14.311357Z",
     "iopub.status.idle": "2023-05-17T01:30:14.317241Z",
     "shell.execute_reply": "2023-05-17T01:30:14.316197Z"
    },
    "papermill": {
     "duration": 0.039225,
     "end_time": "2023-05-17T01:30:14.320086",
     "exception": false,
     "start_time": "2023-05-17T01:30:14.280861",
     "status": "completed"
    },
    "tags": []
   },
   "outputs": [],
   "source": [
    "def mse(my_yhat,my_y):\n",
    "    return (sum((my_yhat-my_y)**2)/len(my_y))"
   ]
  },
  {
   "cell_type": "code",
   "execution_count": 15,
   "id": "360d60ff",
   "metadata": {
    "execution": {
     "iopub.execute_input": "2023-05-17T01:30:14.379337Z",
     "iopub.status.busy": "2023-05-17T01:30:14.378091Z",
     "iopub.status.idle": "2023-05-17T01:30:14.385428Z",
     "shell.execute_reply": "2023-05-17T01:30:14.383226Z"
    },
    "papermill": {
     "duration": 0.039473,
     "end_time": "2023-05-17T01:30:14.388845",
     "exception": false,
     "start_time": "2023-05-17T01:30:14.349372",
     "status": "completed"
    },
    "tags": []
   },
   "outputs": [],
   "source": [
    "def regression (my_x):\n",
    "    return 0.04939508*my_x + 4.91755413"
   ]
  },
  {
   "cell_type": "code",
   "execution_count": 16,
   "id": "9e68230b",
   "metadata": {
    "execution": {
     "iopub.execute_input": "2023-05-17T01:30:14.447623Z",
     "iopub.status.busy": "2023-05-17T01:30:14.447131Z",
     "iopub.status.idle": "2023-05-17T01:30:14.453638Z",
     "shell.execute_reply": "2023-05-17T01:30:14.452173Z"
    },
    "papermill": {
     "duration": 0.037944,
     "end_time": "2023-05-17T01:30:14.456471",
     "exception": false,
     "start_time": "2023-05-17T01:30:14.418527",
     "status": "completed"
    },
    "tags": []
   },
   "outputs": [],
   "source": [
    "def regression (my_x):\n",
    "    return 0.04939508*my_x + 4.91755413"
   ]
  },
  {
   "cell_type": "code",
   "execution_count": 17,
   "id": "39b511d7",
   "metadata": {
    "execution": {
     "iopub.execute_input": "2023-05-17T01:30:14.515369Z",
     "iopub.status.busy": "2023-05-17T01:30:14.513921Z",
     "iopub.status.idle": "2023-05-17T01:30:14.525618Z",
     "shell.execute_reply": "2023-05-17T01:30:14.524310Z"
    },
    "papermill": {
     "duration": 0.045331,
     "end_time": "2023-05-17T01:30:14.528687",
     "exception": false,
     "start_time": "2023-05-17T01:30:14.483356",
     "status": "completed"
    },
    "tags": []
   },
   "outputs": [
    {
     "data": {
      "text/plain": [
       "0      19.242127\n",
       "1       9.570571\n",
       "2       8.493758\n",
       "3      15.354735\n",
       "4      15.018848\n",
       "         ...    \n",
       "195     7.362611\n",
       "196    10.291739\n",
       "197    14.752115\n",
       "198    22.260167\n",
       "199    17.468844\n",
       "Name: total_spend, Length: 200, dtype: float64"
      ]
     },
     "execution_count": 17,
     "metadata": {},
     "output_type": "execute_result"
    }
   ],
   "source": [
    "yhats=regression(X)\n",
    "yhats"
   ]
  },
  {
   "cell_type": "code",
   "execution_count": 18,
   "id": "c2df5022",
   "metadata": {
    "execution": {
     "iopub.execute_input": "2023-05-17T01:30:14.588949Z",
     "iopub.status.busy": "2023-05-17T01:30:14.587013Z",
     "iopub.status.idle": "2023-05-17T01:30:14.598119Z",
     "shell.execute_reply": "2023-05-17T01:30:14.596688Z"
    },
    "papermill": {
     "duration": 0.045649,
     "end_time": "2023-05-17T01:30:14.601888",
     "exception": false,
     "start_time": "2023-05-17T01:30:14.556239",
     "status": "completed"
    },
    "tags": []
   },
   "outputs": [
    {
     "data": {
      "text/plain": [
       "6.33306745551608"
      ]
     },
     "execution_count": 18,
     "metadata": {},
     "output_type": "execute_result"
    }
   ],
   "source": [
    "C=mse(yhats,y)\n",
    "C"
   ]
  },
  {
   "cell_type": "markdown",
   "id": "cb4a09e4",
   "metadata": {
    "papermill": {
     "duration": 0.029341,
     "end_time": "2023-05-17T01:30:14.660930",
     "exception": false,
     "start_time": "2023-05-17T01:30:14.631589",
     "status": "completed"
    },
    "tags": []
   },
   "source": [
    "# Multi Liner Regresion"
   ]
  },
  {
   "cell_type": "code",
   "execution_count": 19,
   "id": "db749bb1",
   "metadata": {
    "execution": {
     "iopub.execute_input": "2023-05-17T01:30:14.720002Z",
     "iopub.status.busy": "2023-05-17T01:30:14.719495Z",
     "iopub.status.idle": "2023-05-17T01:30:14.744775Z",
     "shell.execute_reply": "2023-05-17T01:30:14.743262Z"
    },
    "papermill": {
     "duration": 0.05793,
     "end_time": "2023-05-17T01:30:14.747548",
     "exception": false,
     "start_time": "2023-05-17T01:30:14.689618",
     "status": "completed"
    },
    "tags": []
   },
   "outputs": [
    {
     "data": {
      "text/html": [
       "<div>\n",
       "<style scoped>\n",
       "    .dataframe tbody tr th:only-of-type {\n",
       "        vertical-align: middle;\n",
       "    }\n",
       "\n",
       "    .dataframe tbody tr th {\n",
       "        vertical-align: top;\n",
       "    }\n",
       "\n",
       "    .dataframe thead th {\n",
       "        text-align: right;\n",
       "    }\n",
       "</style>\n",
       "<table border=\"1\" class=\"dataframe\">\n",
       "  <thead>\n",
       "    <tr style=\"text-align: right;\">\n",
       "      <th></th>\n",
       "      <th>TV</th>\n",
       "      <th>radio</th>\n",
       "      <th>newspaper</th>\n",
       "      <th>sales</th>\n",
       "      <th>total_spend</th>\n",
       "    </tr>\n",
       "  </thead>\n",
       "  <tbody>\n",
       "    <tr>\n",
       "      <th>0</th>\n",
       "      <td>230.1</td>\n",
       "      <td>37.8</td>\n",
       "      <td>69.2</td>\n",
       "      <td>22.1</td>\n",
       "      <td>290.0</td>\n",
       "    </tr>\n",
       "    <tr>\n",
       "      <th>1</th>\n",
       "      <td>44.5</td>\n",
       "      <td>39.3</td>\n",
       "      <td>45.1</td>\n",
       "      <td>10.4</td>\n",
       "      <td>94.2</td>\n",
       "    </tr>\n",
       "    <tr>\n",
       "      <th>2</th>\n",
       "      <td>17.2</td>\n",
       "      <td>45.9</td>\n",
       "      <td>69.3</td>\n",
       "      <td>9.3</td>\n",
       "      <td>72.4</td>\n",
       "    </tr>\n",
       "    <tr>\n",
       "      <th>3</th>\n",
       "      <td>151.5</td>\n",
       "      <td>41.3</td>\n",
       "      <td>58.5</td>\n",
       "      <td>18.5</td>\n",
       "      <td>211.3</td>\n",
       "    </tr>\n",
       "    <tr>\n",
       "      <th>4</th>\n",
       "      <td>180.8</td>\n",
       "      <td>10.8</td>\n",
       "      <td>58.4</td>\n",
       "      <td>12.9</td>\n",
       "      <td>204.5</td>\n",
       "    </tr>\n",
       "    <tr>\n",
       "      <th>...</th>\n",
       "      <td>...</td>\n",
       "      <td>...</td>\n",
       "      <td>...</td>\n",
       "      <td>...</td>\n",
       "      <td>...</td>\n",
       "    </tr>\n",
       "    <tr>\n",
       "      <th>195</th>\n",
       "      <td>38.2</td>\n",
       "      <td>3.7</td>\n",
       "      <td>13.8</td>\n",
       "      <td>7.6</td>\n",
       "      <td>49.5</td>\n",
       "    </tr>\n",
       "    <tr>\n",
       "      <th>196</th>\n",
       "      <td>94.2</td>\n",
       "      <td>4.9</td>\n",
       "      <td>8.1</td>\n",
       "      <td>9.7</td>\n",
       "      <td>108.8</td>\n",
       "    </tr>\n",
       "    <tr>\n",
       "      <th>197</th>\n",
       "      <td>177.0</td>\n",
       "      <td>9.3</td>\n",
       "      <td>6.4</td>\n",
       "      <td>12.8</td>\n",
       "      <td>199.1</td>\n",
       "    </tr>\n",
       "    <tr>\n",
       "      <th>198</th>\n",
       "      <td>283.6</td>\n",
       "      <td>42.0</td>\n",
       "      <td>66.2</td>\n",
       "      <td>25.5</td>\n",
       "      <td>351.1</td>\n",
       "    </tr>\n",
       "    <tr>\n",
       "      <th>199</th>\n",
       "      <td>232.1</td>\n",
       "      <td>8.6</td>\n",
       "      <td>8.7</td>\n",
       "      <td>13.4</td>\n",
       "      <td>254.1</td>\n",
       "    </tr>\n",
       "  </tbody>\n",
       "</table>\n",
       "<p>200 rows × 5 columns</p>\n",
       "</div>"
      ],
      "text/plain": [
       "        TV  radio  newspaper  sales  total_spend\n",
       "0    230.1   37.8       69.2   22.1        290.0\n",
       "1     44.5   39.3       45.1   10.4         94.2\n",
       "2     17.2   45.9       69.3    9.3         72.4\n",
       "3    151.5   41.3       58.5   18.5        211.3\n",
       "4    180.8   10.8       58.4   12.9        204.5\n",
       "..     ...    ...        ...    ...          ...\n",
       "195   38.2    3.7       13.8    7.6         49.5\n",
       "196   94.2    4.9        8.1    9.7        108.8\n",
       "197  177.0    9.3        6.4   12.8        199.1\n",
       "198  283.6   42.0       66.2   25.5        351.1\n",
       "199  232.1    8.6        8.7   13.4        254.1\n",
       "\n",
       "[200 rows x 5 columns]"
      ]
     },
     "execution_count": 19,
     "metadata": {},
     "output_type": "execute_result"
    }
   ],
   "source": [
    "df"
   ]
  },
  {
   "cell_type": "code",
   "execution_count": 20,
   "id": "9950cf45",
   "metadata": {
    "execution": {
     "iopub.execute_input": "2023-05-17T01:30:14.806739Z",
     "iopub.status.busy": "2023-05-17T01:30:14.805628Z",
     "iopub.status.idle": "2023-05-17T01:30:15.496973Z",
     "shell.execute_reply": "2023-05-17T01:30:15.496086Z"
    },
    "papermill": {
     "duration": 0.726885,
     "end_time": "2023-05-17T01:30:15.502626",
     "exception": false,
     "start_time": "2023-05-17T01:30:14.775741",
     "status": "completed"
    },
    "tags": []
   },
   "outputs": [
    {
     "data": {
      "image/png": "[encoded data removed]",
      "text/plain": [
       "<Figure size 1600x600 with 3 Axes>"
      ]
     },
     "metadata": {},
     "output_type": "display_data"
    }
   ],
   "source": [
    "import matplotlib.pyplot as plt\n",
    "fig,axes = plt.subplots(nrows=1,ncols=3,figsize=(16,6))\n",
    "\n",
    "axes[0].plot(df['TV'],df['sales'],'o')\n",
    "axes[0].set_ylabel(\"Sales\")\n",
    "axes[0].set_title(\"TV Spend\")\n",
    "\n",
    "axes[1].plot(df['radio'],df['sales'],'o')\n",
    "axes[1].set_title(\"Radio Spend\")\n",
    "axes[1].set_ylabel(\"Sales\")\n",
    "\n",
    "axes[2].plot(df['newspaper'],df['sales'],'o')\n",
    "axes[2].set_title(\"Newspaper Spend\");\n",
    "axes[2].set_ylabel(\"Sales\")\n",
    "plt.tight_layout();"
   ]
  },
  {
   "cell_type": "code",
   "execution_count": 21,
   "id": "468bc381",
   "metadata": {
    "execution": {
     "iopub.execute_input": "2023-05-17T01:30:15.562067Z",
     "iopub.status.busy": "2023-05-17T01:30:15.561624Z",
     "iopub.status.idle": "2023-05-17T01:30:15.592596Z",
     "shell.execute_reply": "2023-05-17T01:30:15.590985Z"
    },
    "papermill": {
     "duration": 0.064183,
     "end_time": "2023-05-17T01:30:15.595795",
     "exception": false,
     "start_time": "2023-05-17T01:30:15.531612",
     "status": "completed"
    },
    "tags": []
   },
   "outputs": [
    {
     "data": {
      "text/html": [
       "<div>\n",
       "<style scoped>\n",
       "    .dataframe tbody tr th:only-of-type {\n",
       "        vertical-align: middle;\n",
       "    }\n",
       "\n",
       "    .dataframe tbody tr th {\n",
       "        vertical-align: top;\n",
       "    }\n",
       "\n",
       "    .dataframe thead th {\n",
       "        text-align: right;\n",
       "    }\n",
       "</style>\n",
       "<table border=\"1\" class=\"dataframe\">\n",
       "  <thead>\n",
       "    <tr style=\"text-align: right;\">\n",
       "      <th></th>\n",
       "      <th>TV</th>\n",
       "      <th>radio</th>\n",
       "      <th>newspaper</th>\n",
       "      <th>sales</th>\n",
       "      <th>total_spend</th>\n",
       "    </tr>\n",
       "  </thead>\n",
       "  <tbody>\n",
       "    <tr>\n",
       "      <th>count</th>\n",
       "      <td>200.000000</td>\n",
       "      <td>200.000000</td>\n",
       "      <td>200.000000</td>\n",
       "      <td>200.000000</td>\n",
       "      <td>200.000000</td>\n",
       "    </tr>\n",
       "    <tr>\n",
       "      <th>mean</th>\n",
       "      <td>147.042500</td>\n",
       "      <td>23.264000</td>\n",
       "      <td>30.554000</td>\n",
       "      <td>14.022500</td>\n",
       "      <td>184.329000</td>\n",
       "    </tr>\n",
       "    <tr>\n",
       "      <th>std</th>\n",
       "      <td>85.854236</td>\n",
       "      <td>14.846809</td>\n",
       "      <td>21.778621</td>\n",
       "      <td>5.217457</td>\n",
       "      <td>92.457429</td>\n",
       "    </tr>\n",
       "    <tr>\n",
       "      <th>min</th>\n",
       "      <td>0.700000</td>\n",
       "      <td>0.000000</td>\n",
       "      <td>0.300000</td>\n",
       "      <td>1.600000</td>\n",
       "      <td>15.500000</td>\n",
       "    </tr>\n",
       "    <tr>\n",
       "      <th>25%</th>\n",
       "      <td>74.375000</td>\n",
       "      <td>9.975000</td>\n",
       "      <td>12.750000</td>\n",
       "      <td>10.375000</td>\n",
       "      <td>101.900000</td>\n",
       "    </tr>\n",
       "    <tr>\n",
       "      <th>50%</th>\n",
       "      <td>149.750000</td>\n",
       "      <td>22.900000</td>\n",
       "      <td>25.750000</td>\n",
       "      <td>12.900000</td>\n",
       "      <td>188.950000</td>\n",
       "    </tr>\n",
       "    <tr>\n",
       "      <th>75%</th>\n",
       "      <td>218.825000</td>\n",
       "      <td>36.525000</td>\n",
       "      <td>45.100000</td>\n",
       "      <td>17.400000</td>\n",
       "      <td>259.100000</td>\n",
       "    </tr>\n",
       "    <tr>\n",
       "      <th>max</th>\n",
       "      <td>296.400000</td>\n",
       "      <td>49.600000</td>\n",
       "      <td>114.000000</td>\n",
       "      <td>27.000000</td>\n",
       "      <td>357.400000</td>\n",
       "    </tr>\n",
       "  </tbody>\n",
       "</table>\n",
       "</div>"
      ],
      "text/plain": [
       "               TV       radio   newspaper       sales  total_spend\n",
       "count  200.000000  200.000000  200.000000  200.000000   200.000000\n",
       "mean   147.042500   23.264000   30.554000   14.022500   184.329000\n",
       "std     85.854236   14.846809   21.778621    5.217457    92.457429\n",
       "min      0.700000    0.000000    0.300000    1.600000    15.500000\n",
       "25%     74.375000    9.975000   12.750000   10.375000   101.900000\n",
       "50%    149.750000   22.900000   25.750000   12.900000   188.950000\n",
       "75%    218.825000   36.525000   45.100000   17.400000   259.100000\n",
       "max    296.400000   49.600000  114.000000   27.000000   357.400000"
      ]
     },
     "execution_count": 21,
     "metadata": {},
     "output_type": "execute_result"
    }
   ],
   "source": [
    "df.describe()"
   ]
  },
  {
   "cell_type": "code",
   "execution_count": 22,
   "id": "ced8c823",
   "metadata": {
    "execution": {
     "iopub.execute_input": "2023-05-17T01:30:15.656963Z",
     "iopub.status.busy": "2023-05-17T01:30:15.656524Z",
     "iopub.status.idle": "2023-05-17T01:30:15.662901Z",
     "shell.execute_reply": "2023-05-17T01:30:15.661602Z"
    },
    "papermill": {
     "duration": 0.039668,
     "end_time": "2023-05-17T01:30:15.665556",
     "exception": false,
     "start_time": "2023-05-17T01:30:15.625888",
     "status": "completed"
    },
    "tags": []
   },
   "outputs": [],
   "source": [
    "y=df['sales']\n",
    "X=df[['TV','radio','newspaper']]"
   ]
  },
  {
   "cell_type": "code",
   "execution_count": 23,
   "id": "005f67f0",
   "metadata": {
    "execution": {
     "iopub.execute_input": "2023-05-17T01:30:15.730077Z",
     "iopub.status.busy": "2023-05-17T01:30:15.729264Z",
     "iopub.status.idle": "2023-05-17T01:30:16.007624Z",
     "shell.execute_reply": "2023-05-17T01:30:16.006401Z"
    },
    "papermill": {
     "duration": 0.313379,
     "end_time": "2023-05-17T01:30:16.011062",
     "exception": false,
     "start_time": "2023-05-17T01:30:15.697683",
     "status": "completed"
    },
    "tags": []
   },
   "outputs": [],
   "source": [
    "from sklearn.model_selection import train_test_split\n",
    "X_train, X_test, y_train, y_test = train_test_split(X, y, test_size=0.3, random_state=101)"
   ]
  },
  {
   "cell_type": "code",
   "execution_count": 24,
   "id": "a42638e0",
   "metadata": {
    "execution": {
     "iopub.execute_input": "2023-05-17T01:30:16.071070Z",
     "iopub.status.busy": "2023-05-17T01:30:16.070581Z",
     "iopub.status.idle": "2023-05-17T01:30:16.209517Z",
     "shell.execute_reply": "2023-05-17T01:30:16.208105Z"
    },
    "papermill": {
     "duration": 0.172504,
     "end_time": "2023-05-17T01:30:16.212501",
     "exception": false,
     "start_time": "2023-05-17T01:30:16.039997",
     "status": "completed"
    },
    "tags": []
   },
   "outputs": [
    {
     "data": {
      "text/plain": [
       "LinearRegression()"
      ]
     },
     "execution_count": 24,
     "metadata": {},
     "output_type": "execute_result"
    }
   ],
   "source": [
    "from sklearn.linear_model import LinearRegression\n",
    "model = LinearRegression()\n",
    "model.fit(X_train,y_train)"
   ]
  },
  {
   "cell_type": "code",
   "execution_count": 25,
   "id": "b1a34a83",
   "metadata": {
    "execution": {
     "iopub.execute_input": "2023-05-17T01:30:16.274336Z",
     "iopub.status.busy": "2023-05-17T01:30:16.273166Z",
     "iopub.status.idle": "2023-05-17T01:30:16.281685Z",
     "shell.execute_reply": "2023-05-17T01:30:16.280407Z"
    },
    "papermill": {
     "duration": 0.042233,
     "end_time": "2023-05-17T01:30:16.284575",
     "exception": false,
     "start_time": "2023-05-17T01:30:16.242342",
     "status": "completed"
    },
    "tags": []
   },
   "outputs": [],
   "source": [
    "y_hat = model.predict(X)"
   ]
  },
  {
   "cell_type": "code",
   "execution_count": 26,
   "id": "5de7388c",
   "metadata": {
    "execution": {
     "iopub.execute_input": "2023-05-17T01:30:16.347087Z",
     "iopub.status.busy": "2023-05-17T01:30:16.345643Z",
     "iopub.status.idle": "2023-05-17T01:30:16.355077Z",
     "shell.execute_reply": "2023-05-17T01:30:16.353841Z"
    },
    "papermill": {
     "duration": 0.043541,
     "end_time": "2023-05-17T01:30:16.357654",
     "exception": false,
     "start_time": "2023-05-17T01:30:16.314113",
     "status": "completed"
    },
    "tags": []
   },
   "outputs": [
    {
     "data": {
      "text/plain": [
       "2.7957867526765092"
      ]
     },
     "execution_count": 26,
     "metadata": {},
     "output_type": "execute_result"
    }
   ],
   "source": [
    "mse(y_hat,y)"
   ]
  },
  {
   "cell_type": "code",
   "execution_count": 27,
   "id": "6d92285c",
   "metadata": {
    "execution": {
     "iopub.execute_input": "2023-05-17T01:30:16.419696Z",
     "iopub.status.busy": "2023-05-17T01:30:16.418945Z",
     "iopub.status.idle": "2023-05-17T01:30:17.126870Z",
     "shell.execute_reply": "2023-05-17T01:30:17.125571Z"
    },
    "papermill": {
     "duration": 0.743341,
     "end_time": "2023-05-17T01:30:17.130870",
     "exception": false,
     "start_time": "2023-05-17T01:30:16.387529",
     "status": "completed"
    },
    "tags": []
   },
   "outputs": [
    {
     "data": {
      "image/png": "[encoded data removed]",
      "text/plain": [
       "<Figure size 1600x600 with 3 Axes>"
      ]
     },
     "metadata": {},
     "output_type": "display_data"
    }
   ],
   "source": [
    "fig,axes = plt.subplots(nrows=1,ncols=3,figsize=(16,6))\n",
    "\n",
    "axes[0].plot(df['TV'],df['sales'],'o')\n",
    "axes[0].plot(df['TV'],y_hat,'o',color='red')\n",
    "axes[0].set_ylabel(\"Sales\")\n",
    "axes[0].set_title(\"TV Spend\")\n",
    "\n",
    "axes[1].plot(df['radio'],df['sales'],'o')\n",
    "axes[1].plot(df['radio'],y_hat,'o',color='red')\n",
    "axes[1].set_title(\"Radio Spend\")\n",
    "axes[1].set_ylabel(\"Sales\")\n",
    "\n",
    "axes[2].plot(df['newspaper'],df['sales'],'o')\n",
    "axes[2].plot(df['radio'],y_hat,'o',color='red')\n",
    "axes[2].set_title(\"Newspaper Spend\");\n",
    "axes[2].set_ylabel(\"Sales\")\n",
    "plt.tight_layout();"
   ]
  },
  {
   "cell_type": "code",
   "execution_count": 28,
   "id": "0161391d",
   "metadata": {
    "execution": {
     "iopub.execute_input": "2023-05-17T01:30:17.196835Z",
     "iopub.status.busy": "2023-05-17T01:30:17.196364Z",
     "iopub.status.idle": "2023-05-17T01:30:17.208296Z",
     "shell.execute_reply": "2023-05-17T01:30:17.207084Z"
    },
    "papermill": {
     "duration": 0.049179,
     "end_time": "2023-05-17T01:30:17.211356",
     "exception": false,
     "start_time": "2023-05-17T01:30:17.162177",
     "status": "completed"
    },
    "tags": []
   },
   "outputs": [
    {
     "name": "stdout",
     "output_type": "stream",
     "text": [
      "1.2408361444761495 2.79578675267651 0.10841981982635293 0.8811131128741965\n"
     ]
    }
   ],
   "source": [
    "from sklearn.metrics import mean_absolute_error,mean_squared_error,mean_absolute_percentage_error,r2_score\n",
    "MAE = mean_absolute_error(y_hat,y)\n",
    "MSE = mean_squared_error(y_hat,y)\n",
    "MAPE = mean_absolute_percentage_error(y_hat,y)\n",
    "r2score = r2_score(y_hat,y)\n",
    "print(MAE, MSE,MAPE,r2score)"
   ]
  },
  {
   "cell_type": "markdown",
   "id": "8162c909",
   "metadata": {
    "papermill": {
     "duration": 0.031158,
     "end_time": "2023-05-17T01:30:17.274115",
     "exception": false,
     "start_time": "2023-05-17T01:30:17.242957",
     "status": "completed"
    },
    "tags": []
   },
   "source": [
    "# Polynomial"
   ]
  },
  {
   "cell_type": "code",
   "execution_count": 29,
   "id": "a1dd5a54",
   "metadata": {
    "execution": {
     "iopub.execute_input": "2023-05-17T01:30:17.339087Z",
     "iopub.status.busy": "2023-05-17T01:30:17.338236Z",
     "iopub.status.idle": "2023-05-17T01:30:17.343240Z",
     "shell.execute_reply": "2023-05-17T01:30:17.342227Z"
    },
    "papermill": {
     "duration": 0.040568,
     "end_time": "2023-05-17T01:30:17.345896",
     "exception": false,
     "start_time": "2023-05-17T01:30:17.305328",
     "status": "completed"
    },
    "tags": []
   },
   "outputs": [],
   "source": [
    "from sklearn.preprocessing import PolynomialFeatures"
   ]
  },
  {
   "cell_type": "code",
   "execution_count": 30,
   "id": "d4392640",
   "metadata": {
    "execution": {
     "iopub.execute_input": "2023-05-17T01:30:17.411317Z",
     "iopub.status.busy": "2023-05-17T01:30:17.410476Z",
     "iopub.status.idle": "2023-05-17T01:30:17.421766Z",
     "shell.execute_reply": "2023-05-17T01:30:17.420384Z"
    },
    "papermill": {
     "duration": 0.047827,
     "end_time": "2023-05-17T01:30:17.425162",
     "exception": false,
     "start_time": "2023-05-17T01:30:17.377335",
     "status": "completed"
    },
    "tags": []
   },
   "outputs": [],
   "source": [
    "polynomial_converter = PolynomialFeatures(degree=2,include_bias=False)\n",
    "poly_features = polynomial_converter.fit_transform(X)\n",
    "X_train, X_test, y_train, y_test = train_test_split(poly_features, y, test_size=0.3, random_state=101)"
   ]
  },
  {
   "cell_type": "code",
   "execution_count": 31,
   "id": "cab599a2",
   "metadata": {
    "execution": {
     "iopub.execute_input": "2023-05-17T01:30:17.491155Z",
     "iopub.status.busy": "2023-05-17T01:30:17.490617Z",
     "iopub.status.idle": "2023-05-17T01:30:17.501700Z",
     "shell.execute_reply": "2023-05-17T01:30:17.500359Z"
    },
    "papermill": {
     "duration": 0.048564,
     "end_time": "2023-05-17T01:30:17.505149",
     "exception": false,
     "start_time": "2023-05-17T01:30:17.456585",
     "status": "completed"
    },
    "tags": []
   },
   "outputs": [
    {
     "data": {
      "text/plain": [
       "LinearRegression()"
      ]
     },
     "execution_count": 31,
     "metadata": {},
     "output_type": "execute_result"
    }
   ],
   "source": [
    "model = LinearRegression()\n",
    "model.fit(X_train,y_train)"
   ]
  },
  {
   "cell_type": "code",
   "execution_count": 32,
   "id": "0f22b41b",
   "metadata": {
    "execution": {
     "iopub.execute_input": "2023-05-17T01:30:17.572530Z",
     "iopub.status.busy": "2023-05-17T01:30:17.572010Z",
     "iopub.status.idle": "2023-05-17T01:30:17.578224Z",
     "shell.execute_reply": "2023-05-17T01:30:17.576710Z"
    },
    "papermill": {
     "duration": 0.043741,
     "end_time": "2023-05-17T01:30:17.581474",
     "exception": false,
     "start_time": "2023-05-17T01:30:17.537733",
     "status": "completed"
    },
    "tags": []
   },
   "outputs": [],
   "source": [
    "y_hat = model.predict(X_test)"
   ]
  },
  {
   "cell_type": "code",
   "execution_count": 33,
   "id": "0ffc156f",
   "metadata": {
    "execution": {
     "iopub.execute_input": "2023-05-17T01:30:17.647024Z",
     "iopub.status.busy": "2023-05-17T01:30:17.646568Z",
     "iopub.status.idle": "2023-05-17T01:30:17.656184Z",
     "shell.execute_reply": "2023-05-17T01:30:17.654634Z"
    },
    "papermill": {
     "duration": 0.045681,
     "end_time": "2023-05-17T01:30:17.658997",
     "exception": false,
     "start_time": "2023-05-17T01:30:17.613316",
     "status": "completed"
    },
    "tags": []
   },
   "outputs": [
    {
     "name": "stdout",
     "output_type": "stream",
     "text": [
      "0.4896798044803852 0.44175055104037636 0.04852550023988213\n"
     ]
    }
   ],
   "source": [
    "MAE = mean_absolute_error(y_hat,y_test)\n",
    "MSE = mean_squared_error(y_hat,y_test)\n",
    "MAPE = mean_absolute_percentage_error(y_hat,y_test)\n",
    "print(MAE, MSE,MAPE)"
   ]
  },
  {
   "cell_type": "code",
   "execution_count": 34,
   "id": "6c9be577",
   "metadata": {
    "execution": {
     "iopub.execute_input": "2023-05-17T01:30:17.726435Z",
     "iopub.status.busy": "2023-05-17T01:30:17.725961Z",
     "iopub.status.idle": "2023-05-17T01:30:18.091746Z",
     "shell.execute_reply": "2023-05-17T01:30:18.090186Z"
    },
    "papermill": {
     "duration": 0.404446,
     "end_time": "2023-05-17T01:30:18.094940",
     "exception": false,
     "start_time": "2023-05-17T01:30:17.690494",
     "status": "completed"
    },
    "tags": []
   },
   "outputs": [
    {
     "data": {
      "text/plain": [
       "<AxesSubplot:ylabel='sales'>"
      ]
     },
     "execution_count": 34,
     "metadata": {},
     "output_type": "execute_result"
    },
    {
     "data": {
      "image/png": "[encoded data removed]",
      "text/plain": [
       "<Figure size 640x480 with 1 Axes>"
      ]
     },
     "metadata": {},
     "output_type": "display_data"
    }
   ],
   "source": [
    "import seaborn as sns\n",
    "sns.regplot(x=y_hat,y=y_test)"
   ]
  },
  {
   "cell_type": "markdown",
   "id": "a9105587",
   "metadata": {
    "papermill": {
     "duration": 0.032542,
     "end_time": "2023-05-17T01:30:18.160835",
     "exception": false,
     "start_time": "2023-05-17T01:30:18.128293",
     "status": "completed"
    },
    "tags": []
   },
   "source": [
    "# Regulerization"
   ]
  },
  {
   "cell_type": "code",
   "execution_count": 35,
   "id": "d8a6c936",
   "metadata": {
    "execution": {
     "iopub.execute_input": "2023-05-17T01:30:18.229987Z",
     "iopub.status.busy": "2023-05-17T01:30:18.228739Z",
     "iopub.status.idle": "2023-05-17T01:30:18.251665Z",
     "shell.execute_reply": "2023-05-17T01:30:18.250004Z"
    },
    "papermill": {
     "duration": 0.060979,
     "end_time": "2023-05-17T01:30:18.254579",
     "exception": false,
     "start_time": "2023-05-17T01:30:18.193600",
     "status": "completed"
    },
    "tags": []
   },
   "outputs": [
    {
     "data": {
      "text/html": [
       "<div>\n",
       "<style scoped>\n",
       "    .dataframe tbody tr th:only-of-type {\n",
       "        vertical-align: middle;\n",
       "    }\n",
       "\n",
       "    .dataframe tbody tr th {\n",
       "        vertical-align: top;\n",
       "    }\n",
       "\n",
       "    .dataframe thead th {\n",
       "        text-align: right;\n",
       "    }\n",
       "</style>\n",
       "<table border=\"1\" class=\"dataframe\">\n",
       "  <thead>\n",
       "    <tr style=\"text-align: right;\">\n",
       "      <th></th>\n",
       "      <th>TV</th>\n",
       "      <th>radio</th>\n",
       "      <th>newspaper</th>\n",
       "      <th>sales</th>\n",
       "      <th>total_spend</th>\n",
       "    </tr>\n",
       "  </thead>\n",
       "  <tbody>\n",
       "    <tr>\n",
       "      <th>0</th>\n",
       "      <td>230.1</td>\n",
       "      <td>37.8</td>\n",
       "      <td>69.2</td>\n",
       "      <td>22.1</td>\n",
       "      <td>290.0</td>\n",
       "    </tr>\n",
       "    <tr>\n",
       "      <th>1</th>\n",
       "      <td>44.5</td>\n",
       "      <td>39.3</td>\n",
       "      <td>45.1</td>\n",
       "      <td>10.4</td>\n",
       "      <td>94.2</td>\n",
       "    </tr>\n",
       "    <tr>\n",
       "      <th>2</th>\n",
       "      <td>17.2</td>\n",
       "      <td>45.9</td>\n",
       "      <td>69.3</td>\n",
       "      <td>9.3</td>\n",
       "      <td>72.4</td>\n",
       "    </tr>\n",
       "    <tr>\n",
       "      <th>3</th>\n",
       "      <td>151.5</td>\n",
       "      <td>41.3</td>\n",
       "      <td>58.5</td>\n",
       "      <td>18.5</td>\n",
       "      <td>211.3</td>\n",
       "    </tr>\n",
       "    <tr>\n",
       "      <th>4</th>\n",
       "      <td>180.8</td>\n",
       "      <td>10.8</td>\n",
       "      <td>58.4</td>\n",
       "      <td>12.9</td>\n",
       "      <td>204.5</td>\n",
       "    </tr>\n",
       "    <tr>\n",
       "      <th>...</th>\n",
       "      <td>...</td>\n",
       "      <td>...</td>\n",
       "      <td>...</td>\n",
       "      <td>...</td>\n",
       "      <td>...</td>\n",
       "    </tr>\n",
       "    <tr>\n",
       "      <th>195</th>\n",
       "      <td>38.2</td>\n",
       "      <td>3.7</td>\n",
       "      <td>13.8</td>\n",
       "      <td>7.6</td>\n",
       "      <td>49.5</td>\n",
       "    </tr>\n",
       "    <tr>\n",
       "      <th>196</th>\n",
       "      <td>94.2</td>\n",
       "      <td>4.9</td>\n",
       "      <td>8.1</td>\n",
       "      <td>9.7</td>\n",
       "      <td>108.8</td>\n",
       "    </tr>\n",
       "    <tr>\n",
       "      <th>197</th>\n",
       "      <td>177.0</td>\n",
       "      <td>9.3</td>\n",
       "      <td>6.4</td>\n",
       "      <td>12.8</td>\n",
       "      <td>199.1</td>\n",
       "    </tr>\n",
       "    <tr>\n",
       "      <th>198</th>\n",
       "      <td>283.6</td>\n",
       "      <td>42.0</td>\n",
       "      <td>66.2</td>\n",
       "      <td>25.5</td>\n",
       "      <td>351.1</td>\n",
       "    </tr>\n",
       "    <tr>\n",
       "      <th>199</th>\n",
       "      <td>232.1</td>\n",
       "      <td>8.6</td>\n",
       "      <td>8.7</td>\n",
       "      <td>13.4</td>\n",
       "      <td>254.1</td>\n",
       "    </tr>\n",
       "  </tbody>\n",
       "</table>\n",
       "<p>200 rows × 5 columns</p>\n",
       "</div>"
      ],
      "text/plain": [
       "        TV  radio  newspaper  sales  total_spend\n",
       "0    230.1   37.8       69.2   22.1        290.0\n",
       "1     44.5   39.3       45.1   10.4         94.2\n",
       "2     17.2   45.9       69.3    9.3         72.4\n",
       "3    151.5   41.3       58.5   18.5        211.3\n",
       "4    180.8   10.8       58.4   12.9        204.5\n",
       "..     ...    ...        ...    ...          ...\n",
       "195   38.2    3.7       13.8    7.6         49.5\n",
       "196   94.2    4.9        8.1    9.7        108.8\n",
       "197  177.0    9.3        6.4   12.8        199.1\n",
       "198  283.6   42.0       66.2   25.5        351.1\n",
       "199  232.1    8.6        8.7   13.4        254.1\n",
       "\n",
       "[200 rows x 5 columns]"
      ]
     },
     "execution_count": 35,
     "metadata": {},
     "output_type": "execute_result"
    }
   ],
   "source": [
    "df"
   ]
  },
  {
   "cell_type": "code",
   "execution_count": 36,
   "id": "19201994",
   "metadata": {
    "execution": {
     "iopub.execute_input": "2023-05-17T01:30:18.322777Z",
     "iopub.status.busy": "2023-05-17T01:30:18.322303Z",
     "iopub.status.idle": "2023-05-17T01:30:18.329450Z",
     "shell.execute_reply": "2023-05-17T01:30:18.327819Z"
    },
    "papermill": {
     "duration": 0.044643,
     "end_time": "2023-05-17T01:30:18.332133",
     "exception": false,
     "start_time": "2023-05-17T01:30:18.287490",
     "status": "completed"
    },
    "tags": []
   },
   "outputs": [],
   "source": [
    "X = df.drop('sales',axis=1)\n",
    "y = df['sales']"
   ]
  },
  {
   "cell_type": "code",
   "execution_count": 37,
   "id": "569a29aa",
   "metadata": {
    "execution": {
     "iopub.execute_input": "2023-05-17T01:30:18.401553Z",
     "iopub.status.busy": "2023-05-17T01:30:18.401072Z",
     "iopub.status.idle": "2023-05-17T01:30:18.411857Z",
     "shell.execute_reply": "2023-05-17T01:30:18.410574Z"
    },
    "papermill": {
     "duration": 0.049532,
     "end_time": "2023-05-17T01:30:18.414639",
     "exception": false,
     "start_time": "2023-05-17T01:30:18.365107",
     "status": "completed"
    },
    "tags": []
   },
   "outputs": [],
   "source": [
    "from sklearn.preprocessing import StandardScaler\n",
    "scaler = StandardScaler()\n",
    "scaler.fit(X)\n",
    "X = scaler.transform(X)"
   ]
  },
  {
   "cell_type": "code",
   "execution_count": 38,
   "id": "32dae61c",
   "metadata": {
    "execution": {
     "iopub.execute_input": "2023-05-17T01:30:18.482642Z",
     "iopub.status.busy": "2023-05-17T01:30:18.482162Z",
     "iopub.status.idle": "2023-05-17T01:30:18.491321Z",
     "shell.execute_reply": "2023-05-17T01:30:18.489800Z"
    },
    "papermill": {
     "duration": 0.046775,
     "end_time": "2023-05-17T01:30:18.494379",
     "exception": false,
     "start_time": "2023-05-17T01:30:18.447604",
     "status": "completed"
    },
    "tags": []
   },
   "outputs": [],
   "source": [
    "polynomial_converter = PolynomialFeatures(degree=2,include_bias=False)\n",
    "poly_features = polynomial_converter.fit_transform(X)\n",
    "X_train, X_test, y_train, y_test = train_test_split(poly_features, y, test_size=0.3, random_state=101)"
   ]
  },
  {
   "cell_type": "code",
   "execution_count": 39,
   "id": "85f6637b",
   "metadata": {
    "execution": {
     "iopub.execute_input": "2023-05-17T01:30:18.562298Z",
     "iopub.status.busy": "2023-05-17T01:30:18.561824Z",
     "iopub.status.idle": "2023-05-17T01:30:18.570318Z",
     "shell.execute_reply": "2023-05-17T01:30:18.568990Z"
    },
    "papermill": {
     "duration": 0.045939,
     "end_time": "2023-05-17T01:30:18.572788",
     "exception": false,
     "start_time": "2023-05-17T01:30:18.526849",
     "status": "completed"
    },
    "tags": []
   },
   "outputs": [
    {
     "data": {
      "text/plain": [
       "array([[ 0.53897548, -0.3284346 ,  1.61783412, ...,  2.61738724,\n",
       "         0.74502891,  0.21206953],\n",
       "       [ 1.64127273,  1.33264499,  1.89862818, ...,  3.60478898,\n",
       "         3.55060737,  3.49724013],\n",
       "       [-0.7805117 , -1.57086811, -0.98296335, ...,  0.96621694,\n",
       "         1.01603579,  1.06842334],\n",
       "       ...,\n",
       "       [ 1.08311798, -1.29402151,  0.29211789, ...,  0.08533286,\n",
       "         0.22764519,  0.60729634],\n",
       "       [ 0.79002835,  0.04969734, -1.22232878, ...,  1.49408764,\n",
       "        -0.95122593,  0.60560756],\n",
       "       [ 0.18983684,  0.5628764 ,  1.02862691, ...,  1.05807331,\n",
       "         0.30639311,  0.08872423]])"
      ]
     },
     "execution_count": 39,
     "metadata": {},
     "output_type": "execute_result"
    }
   ],
   "source": [
    "X_train"
   ]
  },
  {
   "cell_type": "markdown",
   "id": "013bc957",
   "metadata": {
    "papermill": {
     "duration": 0.041566,
     "end_time": "2023-05-17T01:30:18.650232",
     "exception": false,
     "start_time": "2023-05-17T01:30:18.608666",
     "status": "completed"
    },
    "tags": []
   },
   "source": [
    "# Ridge Regresion L2"
   ]
  },
  {
   "cell_type": "code",
   "execution_count": 40,
   "id": "58ca420f",
   "metadata": {
    "execution": {
     "iopub.execute_input": "2023-05-17T01:30:18.721007Z",
     "iopub.status.busy": "2023-05-17T01:30:18.719837Z",
     "iopub.status.idle": "2023-05-17T01:30:18.726609Z",
     "shell.execute_reply": "2023-05-17T01:30:18.725113Z"
    },
    "papermill": {
     "duration": 0.046156,
     "end_time": "2023-05-17T01:30:18.729599",
     "exception": false,
     "start_time": "2023-05-17T01:30:18.683443",
     "status": "completed"
    },
    "tags": []
   },
   "outputs": [],
   "source": [
    "from sklearn.linear_model import Ridge"
   ]
  },
  {
   "cell_type": "code",
   "execution_count": 41,
   "id": "5dd2f4b8",
   "metadata": {
    "execution": {
     "iopub.execute_input": "2023-05-17T01:30:18.803895Z",
     "iopub.status.busy": "2023-05-17T01:30:18.802824Z",
     "iopub.status.idle": "2023-05-17T01:30:18.818899Z",
     "shell.execute_reply": "2023-05-17T01:30:18.817276Z"
    },
    "papermill": {
     "duration": 0.058282,
     "end_time": "2023-05-17T01:30:18.822079",
     "exception": false,
     "start_time": "2023-05-17T01:30:18.763797",
     "status": "completed"
    },
    "tags": []
   },
   "outputs": [
    {
     "data": {
      "text/plain": [
       "Ridge()"
      ]
     },
     "execution_count": 41,
     "metadata": {},
     "output_type": "execute_result"
    }
   ],
   "source": [
    "r_model=Ridge()\n",
    "r_model.fit(X_train,y_train)"
   ]
  },
  {
   "cell_type": "code",
   "execution_count": 42,
   "id": "1a9f2491",
   "metadata": {
    "execution": {
     "iopub.execute_input": "2023-05-17T01:30:18.897929Z",
     "iopub.status.busy": "2023-05-17T01:30:18.896993Z",
     "iopub.status.idle": "2023-05-17T01:30:18.903021Z",
     "shell.execute_reply": "2023-05-17T01:30:18.902082Z"
    },
    "papermill": {
     "duration": 0.048133,
     "end_time": "2023-05-17T01:30:18.905929",
     "exception": false,
     "start_time": "2023-05-17T01:30:18.857796",
     "status": "completed"
    },
    "tags": []
   },
   "outputs": [],
   "source": [
    "pred=r_model.predict(X_test)"
   ]
  },
  {
   "cell_type": "code",
   "execution_count": 43,
   "id": "87b5e5a9",
   "metadata": {
    "execution": {
     "iopub.execute_input": "2023-05-17T01:30:18.981505Z",
     "iopub.status.busy": "2023-05-17T01:30:18.980674Z",
     "iopub.status.idle": "2023-05-17T01:30:18.989761Z",
     "shell.execute_reply": "2023-05-17T01:30:18.988459Z"
    },
    "papermill": {
     "duration": 0.049513,
     "end_time": "2023-05-17T01:30:18.992869",
     "exception": false,
     "start_time": "2023-05-17T01:30:18.943356",
     "status": "completed"
    },
    "tags": []
   },
   "outputs": [
    {
     "name": "stdout",
     "output_type": "stream",
     "text": [
      "0.46940178108299996 0.40186232054250526 0.046363970300432045\n"
     ]
    }
   ],
   "source": [
    "MAE = mean_absolute_error(pred,y_test)\n",
    "MSE = mean_squared_error(pred,y_test)\n",
    "MAPE = mean_absolute_percentage_error(pred,y_test)\n",
    "print(MAE, MSE,MAPE)"
   ]
  },
  {
   "cell_type": "code",
   "execution_count": 44,
   "id": "dec9fa02",
   "metadata": {
    "execution": {
     "iopub.execute_input": "2023-05-17T01:30:19.077874Z",
     "iopub.status.busy": "2023-05-17T01:30:19.077326Z",
     "iopub.status.idle": "2023-05-17T01:30:19.093257Z",
     "shell.execute_reply": "2023-05-17T01:30:19.091894Z"
    },
    "papermill": {
     "duration": 0.064808,
     "end_time": "2023-05-17T01:30:19.096247",
     "exception": false,
     "start_time": "2023-05-17T01:30:19.031439",
     "status": "completed"
    },
    "tags": []
   },
   "outputs": [
    {
     "data": {
      "text/plain": [
       "RidgeCV(alphas=array([ 0.1,  1. , 10. ]), scoring='neg_mean_absolute_error')"
      ]
     },
     "execution_count": 44,
     "metadata": {},
     "output_type": "execute_result"
    }
   ],
   "source": [
    "from sklearn.linear_model import RidgeCV\n",
    "ridge_cv_model = RidgeCV(alphas=(0.1, 1.0, 10.0),scoring='neg_mean_absolute_error')\n",
    "ridge_cv_model.fit(X_train,y_train)"
   ]
  },
  {
   "cell_type": "code",
   "execution_count": 45,
   "id": "1215cfb8",
   "metadata": {
    "execution": {
     "iopub.execute_input": "2023-05-17T01:30:19.166143Z",
     "iopub.status.busy": "2023-05-17T01:30:19.164650Z",
     "iopub.status.idle": "2023-05-17T01:30:19.176034Z",
     "shell.execute_reply": "2023-05-17T01:30:19.174397Z"
    },
    "papermill": {
     "duration": 0.049781,
     "end_time": "2023-05-17T01:30:19.179312",
     "exception": false,
     "start_time": "2023-05-17T01:30:19.129531",
     "status": "completed"
    },
    "tags": []
   },
   "outputs": [
    {
     "name": "stdout",
     "output_type": "stream",
     "text": [
      "0.41858871142966925 0.3141988247541892 0.04086973421246109\n"
     ]
    }
   ],
   "source": [
    "# Training Set Performance\n",
    "predictions = ridge_cv_model.predict(X_test)\n",
    "\n",
    "MAE = mean_absolute_error(predictions,y_test)\n",
    "MSE = mean_squared_error(predictions,y_test)\n",
    "MAPE = mean_absolute_percentage_error(predictions,y_test)\n",
    "print(MAE, MSE,MAPE)"
   ]
  },
  {
   "cell_type": "markdown",
   "id": "ec774d66",
   "metadata": {
    "papermill": {
     "duration": 0.033691,
     "end_time": "2023-05-17T01:30:19.246963",
     "exception": false,
     "start_time": "2023-05-17T01:30:19.213272",
     "status": "completed"
    },
    "tags": []
   },
   "source": [
    "# L1 Lasso"
   ]
  },
  {
   "cell_type": "code",
   "execution_count": 46,
   "id": "85ebeb17",
   "metadata": {
    "execution": {
     "iopub.execute_input": "2023-05-17T01:30:19.320215Z",
     "iopub.status.busy": "2023-05-17T01:30:19.318815Z",
     "iopub.status.idle": "2023-05-17T01:30:19.396507Z",
     "shell.execute_reply": "2023-05-17T01:30:19.394883Z"
    },
    "papermill": {
     "duration": 0.11742,
     "end_time": "2023-05-17T01:30:19.399535",
     "exception": false,
     "start_time": "2023-05-17T01:30:19.282115",
     "status": "completed"
    },
    "tags": []
   },
   "outputs": [
    {
     "data": {
      "text/plain": [
       "LassoCV(cv=5, eps=0.1)"
      ]
     },
     "execution_count": 46,
     "metadata": {},
     "output_type": "execute_result"
    }
   ],
   "source": [
    "from sklearn.linear_model import LassoCV\n",
    "lasso_cv_model = LassoCV(eps=0.1,n_alphas=100,cv=5)\n",
    "lasso_cv_model.fit(X_train,y_train)"
   ]
  },
  {
   "cell_type": "code",
   "execution_count": 47,
   "id": "05474716",
   "metadata": {
    "execution": {
     "iopub.execute_input": "2023-05-17T01:30:19.472372Z",
     "iopub.status.busy": "2023-05-17T01:30:19.471408Z",
     "iopub.status.idle": "2023-05-17T01:30:19.481768Z",
     "shell.execute_reply": "2023-05-17T01:30:19.479935Z"
    },
    "papermill": {
     "duration": 0.049909,
     "end_time": "2023-05-17T01:30:19.484308",
     "exception": false,
     "start_time": "2023-05-17T01:30:19.434399",
     "status": "completed"
    },
    "tags": []
   },
   "outputs": [
    {
     "name": "stdout",
     "output_type": "stream",
     "text": [
      "0.7228662536976694 1.069245715068131 0.06299464127454664\n"
     ]
    }
   ],
   "source": [
    "# Training Set Performance\n",
    "predictions = lasso_cv_model.predict(X_test)\n",
    "\n",
    "MAE = mean_absolute_error(predictions,y_test)\n",
    "MSE = mean_squared_error(predictions,y_test)\n",
    "MAPE = mean_absolute_percentage_error(predictions,y_test)\n",
    "print(MAE, MSE,MAPE)"
   ]
  },
  {
   "cell_type": "markdown",
   "id": "08eebb11",
   "metadata": {
    "papermill": {
     "duration": 0.033484,
     "end_time": "2023-05-17T01:30:19.552175",
     "exception": false,
     "start_time": "2023-05-17T01:30:19.518691",
     "status": "completed"
    },
    "tags": []
   },
   "source": [
    "# Elastic NEt"
   ]
  },
  {
   "cell_type": "code",
   "execution_count": 48,
   "id": "78e3cbe4",
   "metadata": {
    "execution": {
     "iopub.execute_input": "2023-05-17T01:30:19.624271Z",
     "iopub.status.busy": "2023-05-17T01:30:19.623200Z",
     "iopub.status.idle": "2023-05-17T01:30:19.629370Z",
     "shell.execute_reply": "2023-05-17T01:30:19.628144Z"
    },
    "papermill": {
     "duration": 0.045499,
     "end_time": "2023-05-17T01:30:19.632397",
     "exception": false,
     "start_time": "2023-05-17T01:30:19.586898",
     "status": "completed"
    },
    "tags": []
   },
   "outputs": [],
   "source": [
    "from sklearn.linear_model import ElasticNetCV"
   ]
  },
  {
   "cell_type": "code",
   "execution_count": 49,
   "id": "f985b2af",
   "metadata": {
    "execution": {
     "iopub.execute_input": "2023-05-17T01:30:19.704232Z",
     "iopub.status.busy": "2023-05-17T01:30:19.703406Z",
     "iopub.status.idle": "2023-05-17T01:30:20.080460Z",
     "shell.execute_reply": "2023-05-17T01:30:20.079116Z"
    },
    "papermill": {
     "duration": 0.415286,
     "end_time": "2023-05-17T01:30:20.083365",
     "exception": false,
     "start_time": "2023-05-17T01:30:19.668079",
     "status": "completed"
    },
    "tags": []
   },
   "outputs": [
    {
     "data": {
      "text/plain": [
       "ElasticNetCV(l1_ratio=[0.1, 0.5, 0.7, 0.9, 0.95, 0.99, 1], tol=0.01)"
      ]
     },
     "execution_count": 49,
     "metadata": {},
     "output_type": "execute_result"
    }
   ],
   "source": [
    "elastic_model = ElasticNetCV(l1_ratio=[.1, .5, .7,.9, .95, .99, 1],tol=0.01)\n",
    "elastic_model.fit(X_train,y_train)"
   ]
  },
  {
   "cell_type": "code",
   "execution_count": 50,
   "id": "f58d3052",
   "metadata": {
    "execution": {
     "iopub.execute_input": "2023-05-17T01:30:20.154348Z",
     "iopub.status.busy": "2023-05-17T01:30:20.153500Z",
     "iopub.status.idle": "2023-05-17T01:30:20.162925Z",
     "shell.execute_reply": "2023-05-17T01:30:20.161441Z"
    },
    "papermill": {
     "duration": 0.047881,
     "end_time": "2023-05-17T01:30:20.165766",
     "exception": false,
     "start_time": "2023-05-17T01:30:20.117885",
     "status": "completed"
    },
    "tags": []
   },
   "outputs": [
    {
     "data": {
      "text/plain": [
       "{'alphas': None,\n",
       " 'copy_X': True,\n",
       " 'cv': None,\n",
       " 'eps': 0.001,\n",
       " 'fit_intercept': True,\n",
       " 'l1_ratio': [0.1, 0.5, 0.7, 0.9, 0.95, 0.99, 1],\n",
       " 'max_iter': 1000,\n",
       " 'n_alphas': 100,\n",
       " 'n_jobs': None,\n",
       " 'normalize': 'deprecated',\n",
       " 'positive': False,\n",
       " 'precompute': 'auto',\n",
       " 'random_state': None,\n",
       " 'selection': 'cyclic',\n",
       " 'tol': 0.01,\n",
       " 'verbose': 0}"
      ]
     },
     "execution_count": 50,
     "metadata": {},
     "output_type": "execute_result"
    }
   ],
   "source": [
    "elastic_model.get_params()"
   ]
  },
  {
   "cell_type": "code",
   "execution_count": 51,
   "id": "30391780",
   "metadata": {
    "execution": {
     "iopub.execute_input": "2023-05-17T01:30:20.237764Z",
     "iopub.status.busy": "2023-05-17T01:30:20.237292Z",
     "iopub.status.idle": "2023-05-17T01:30:20.247335Z",
     "shell.execute_reply": "2023-05-17T01:30:20.245654Z"
    },
    "papermill": {
     "duration": 0.049072,
     "end_time": "2023-05-17T01:30:20.249949",
     "exception": false,
     "start_time": "2023-05-17T01:30:20.200877",
     "status": "completed"
    },
    "tags": []
   },
   "outputs": [
    {
     "name": "stdout",
     "output_type": "stream",
     "text": [
      "0.4728485573435305 0.42471401903410283 0.0471904089909382\n"
     ]
    }
   ],
   "source": [
    "# Training Set Performance\n",
    "predictions = elastic_model.predict(X_test)\n",
    "\n",
    "MAE = mean_absolute_error(predictions,y_test)\n",
    "MSE = mean_squared_error(predictions,y_test)\n",
    "MAPE = mean_absolute_percentage_error(predictions,y_test)\n",
    "print(MAE, MSE,MAPE)"
   ]
  },
  {
   "cell_type": "markdown",
   "id": "dc228191",
   "metadata": {
    "papermill": {
     "duration": 0.033774,
     "end_time": "2023-05-17T01:30:20.317655",
     "exception": false,
     "start_time": "2023-05-17T01:30:20.283881",
     "status": "completed"
    },
    "tags": []
   },
   "source": [
    "# Logistic Regresion"
   ]
  },
  {
   "cell_type": "code",
   "execution_count": 52,
   "id": "239027a4",
   "metadata": {
    "execution": {
     "iopub.execute_input": "2023-05-17T01:30:20.390136Z",
     "iopub.status.busy": "2023-05-17T01:30:20.389676Z",
     "iopub.status.idle": "2023-05-17T01:30:20.408856Z",
     "shell.execute_reply": "2023-05-17T01:30:20.407486Z"
    },
    "papermill": {
     "duration": 0.059521,
     "end_time": "2023-05-17T01:30:20.411663",
     "exception": false,
     "start_time": "2023-05-17T01:30:20.352142",
     "status": "completed"
    },
    "tags": []
   },
   "outputs": [
    {
     "data": {
      "text/html": [
       "<div>\n",
       "<style scoped>\n",
       "    .dataframe tbody tr th:only-of-type {\n",
       "        vertical-align: middle;\n",
       "    }\n",
       "\n",
       "    .dataframe tbody tr th {\n",
       "        vertical-align: top;\n",
       "    }\n",
       "\n",
       "    .dataframe thead th {\n",
       "        text-align: right;\n",
       "    }\n",
       "</style>\n",
       "<table border=\"1\" class=\"dataframe\">\n",
       "  <thead>\n",
       "    <tr style=\"text-align: right;\">\n",
       "      <th></th>\n",
       "      <th>age</th>\n",
       "      <th>physical_score</th>\n",
       "      <th>test_result</th>\n",
       "    </tr>\n",
       "  </thead>\n",
       "  <tbody>\n",
       "    <tr>\n",
       "      <th>0</th>\n",
       "      <td>33.0</td>\n",
       "      <td>40.7</td>\n",
       "      <td>1</td>\n",
       "    </tr>\n",
       "    <tr>\n",
       "      <th>1</th>\n",
       "      <td>50.0</td>\n",
       "      <td>37.2</td>\n",
       "      <td>1</td>\n",
       "    </tr>\n",
       "    <tr>\n",
       "      <th>2</th>\n",
       "      <td>52.0</td>\n",
       "      <td>24.7</td>\n",
       "      <td>0</td>\n",
       "    </tr>\n",
       "    <tr>\n",
       "      <th>3</th>\n",
       "      <td>56.0</td>\n",
       "      <td>31.0</td>\n",
       "      <td>0</td>\n",
       "    </tr>\n",
       "    <tr>\n",
       "      <th>4</th>\n",
       "      <td>35.0</td>\n",
       "      <td>42.9</td>\n",
       "      <td>1</td>\n",
       "    </tr>\n",
       "    <tr>\n",
       "      <th>...</th>\n",
       "      <td>...</td>\n",
       "      <td>...</td>\n",
       "      <td>...</td>\n",
       "    </tr>\n",
       "    <tr>\n",
       "      <th>4995</th>\n",
       "      <td>73.0</td>\n",
       "      <td>3.9</td>\n",
       "      <td>0</td>\n",
       "    </tr>\n",
       "    <tr>\n",
       "      <th>4996</th>\n",
       "      <td>57.0</td>\n",
       "      <td>33.9</td>\n",
       "      <td>1</td>\n",
       "    </tr>\n",
       "    <tr>\n",
       "      <th>4997</th>\n",
       "      <td>49.0</td>\n",
       "      <td>34.5</td>\n",
       "      <td>1</td>\n",
       "    </tr>\n",
       "    <tr>\n",
       "      <th>4998</th>\n",
       "      <td>38.0</td>\n",
       "      <td>46.4</td>\n",
       "      <td>1</td>\n",
       "    </tr>\n",
       "    <tr>\n",
       "      <th>4999</th>\n",
       "      <td>48.0</td>\n",
       "      <td>38.5</td>\n",
       "      <td>1</td>\n",
       "    </tr>\n",
       "  </tbody>\n",
       "</table>\n",
       "<p>5000 rows × 3 columns</p>\n",
       "</div>"
      ],
      "text/plain": [
       "       age  physical_score  test_result\n",
       "0     33.0            40.7            1\n",
       "1     50.0            37.2            1\n",
       "2     52.0            24.7            0\n",
       "3     56.0            31.0            0\n",
       "4     35.0            42.9            1\n",
       "...    ...             ...          ...\n",
       "4995  73.0             3.9            0\n",
       "4996  57.0            33.9            1\n",
       "4997  49.0            34.5            1\n",
       "4998  38.0            46.4            1\n",
       "4999  48.0            38.5            1\n",
       "\n",
       "[5000 rows x 3 columns]"
      ]
     },
     "execution_count": 52,
     "metadata": {},
     "output_type": "execute_result"
    }
   ],
   "source": [
    "df2"
   ]
  },
  {
   "cell_type": "code",
   "execution_count": 53,
   "id": "ae07e81e",
   "metadata": {
    "execution": {
     "iopub.execute_input": "2023-05-17T01:30:20.484024Z",
     "iopub.status.busy": "2023-05-17T01:30:20.483410Z",
     "iopub.status.idle": "2023-05-17T01:30:20.494783Z",
     "shell.execute_reply": "2023-05-17T01:30:20.493164Z"
    },
    "papermill": {
     "duration": 0.052296,
     "end_time": "2023-05-17T01:30:20.498305",
     "exception": false,
     "start_time": "2023-05-17T01:30:20.446009",
     "status": "completed"
    },
    "tags": []
   },
   "outputs": [
    {
     "data": {
      "text/plain": [
       "test_result\n",
       "0    2000\n",
       "1    3000\n",
       "dtype: int64"
      ]
     },
     "execution_count": 53,
     "metadata": {},
     "output_type": "execute_result"
    }
   ],
   "source": [
    "df2.groupby(['test_result']).size()"
   ]
  },
  {
   "cell_type": "code",
   "execution_count": 54,
   "id": "7092a61e",
   "metadata": {
    "execution": {
     "iopub.execute_input": "2023-05-17T01:30:20.572211Z",
     "iopub.status.busy": "2023-05-17T01:30:20.571693Z",
     "iopub.status.idle": "2023-05-17T01:30:20.579861Z",
     "shell.execute_reply": "2023-05-17T01:30:20.578558Z"
    },
    "papermill": {
     "duration": 0.04782,
     "end_time": "2023-05-17T01:30:20.582617",
     "exception": false,
     "start_time": "2023-05-17T01:30:20.534797",
     "status": "completed"
    },
    "tags": []
   },
   "outputs": [
    {
     "data": {
      "text/plain": [
       "0.4"
      ]
     },
     "execution_count": 54,
     "metadata": {},
     "output_type": "execute_result"
    }
   ],
   "source": [
    "2000/5000"
   ]
  },
  {
   "cell_type": "code",
   "execution_count": 55,
   "id": "0c03915c",
   "metadata": {
    "execution": {
     "iopub.execute_input": "2023-05-17T01:30:20.657872Z",
     "iopub.status.busy": "2023-05-17T01:30:20.656479Z",
     "iopub.status.idle": "2023-05-17T01:30:20.687873Z",
     "shell.execute_reply": "2023-05-17T01:30:20.686495Z"
    },
    "papermill": {
     "duration": 0.071127,
     "end_time": "2023-05-17T01:30:20.690676",
     "exception": false,
     "start_time": "2023-05-17T01:30:20.619549",
     "status": "completed"
    },
    "tags": []
   },
   "outputs": [
    {
     "data": {
      "text/html": [
       "<div>\n",
       "<style scoped>\n",
       "    .dataframe tbody tr th:only-of-type {\n",
       "        vertical-align: middle;\n",
       "    }\n",
       "\n",
       "    .dataframe tbody tr th {\n",
       "        vertical-align: top;\n",
       "    }\n",
       "\n",
       "    .dataframe thead th {\n",
       "        text-align: right;\n",
       "    }\n",
       "</style>\n",
       "<table border=\"1\" class=\"dataframe\">\n",
       "  <thead>\n",
       "    <tr style=\"text-align: right;\">\n",
       "      <th></th>\n",
       "      <th>TV</th>\n",
       "      <th>radio</th>\n",
       "      <th>newspaper</th>\n",
       "      <th>sales</th>\n",
       "      <th>total_spend</th>\n",
       "    </tr>\n",
       "  </thead>\n",
       "  <tbody>\n",
       "    <tr>\n",
       "      <th>count</th>\n",
       "      <td>200.000000</td>\n",
       "      <td>200.000000</td>\n",
       "      <td>200.000000</td>\n",
       "      <td>200.000000</td>\n",
       "      <td>200.000000</td>\n",
       "    </tr>\n",
       "    <tr>\n",
       "      <th>mean</th>\n",
       "      <td>147.042500</td>\n",
       "      <td>23.264000</td>\n",
       "      <td>30.554000</td>\n",
       "      <td>14.022500</td>\n",
       "      <td>184.329000</td>\n",
       "    </tr>\n",
       "    <tr>\n",
       "      <th>std</th>\n",
       "      <td>85.854236</td>\n",
       "      <td>14.846809</td>\n",
       "      <td>21.778621</td>\n",
       "      <td>5.217457</td>\n",
       "      <td>92.457429</td>\n",
       "    </tr>\n",
       "    <tr>\n",
       "      <th>min</th>\n",
       "      <td>0.700000</td>\n",
       "      <td>0.000000</td>\n",
       "      <td>0.300000</td>\n",
       "      <td>1.600000</td>\n",
       "      <td>15.500000</td>\n",
       "    </tr>\n",
       "    <tr>\n",
       "      <th>25%</th>\n",
       "      <td>74.375000</td>\n",
       "      <td>9.975000</td>\n",
       "      <td>12.750000</td>\n",
       "      <td>10.375000</td>\n",
       "      <td>101.900000</td>\n",
       "    </tr>\n",
       "    <tr>\n",
       "      <th>50%</th>\n",
       "      <td>149.750000</td>\n",
       "      <td>22.900000</td>\n",
       "      <td>25.750000</td>\n",
       "      <td>12.900000</td>\n",
       "      <td>188.950000</td>\n",
       "    </tr>\n",
       "    <tr>\n",
       "      <th>75%</th>\n",
       "      <td>218.825000</td>\n",
       "      <td>36.525000</td>\n",
       "      <td>45.100000</td>\n",
       "      <td>17.400000</td>\n",
       "      <td>259.100000</td>\n",
       "    </tr>\n",
       "    <tr>\n",
       "      <th>max</th>\n",
       "      <td>296.400000</td>\n",
       "      <td>49.600000</td>\n",
       "      <td>114.000000</td>\n",
       "      <td>27.000000</td>\n",
       "      <td>357.400000</td>\n",
       "    </tr>\n",
       "  </tbody>\n",
       "</table>\n",
       "</div>"
      ],
      "text/plain": [
       "               TV       radio   newspaper       sales  total_spend\n",
       "count  200.000000  200.000000  200.000000  200.000000   200.000000\n",
       "mean   147.042500   23.264000   30.554000   14.022500   184.329000\n",
       "std     85.854236   14.846809   21.778621    5.217457    92.457429\n",
       "min      0.700000    0.000000    0.300000    1.600000    15.500000\n",
       "25%     74.375000    9.975000   12.750000   10.375000   101.900000\n",
       "50%    149.750000   22.900000   25.750000   12.900000   188.950000\n",
       "75%    218.825000   36.525000   45.100000   17.400000   259.100000\n",
       "max    296.400000   49.600000  114.000000   27.000000   357.400000"
      ]
     },
     "execution_count": 55,
     "metadata": {},
     "output_type": "execute_result"
    }
   ],
   "source": [
    "df.describe()"
   ]
  },
  {
   "cell_type": "code",
   "execution_count": 56,
   "id": "cdcb63e6",
   "metadata": {
    "execution": {
     "iopub.execute_input": "2023-05-17T01:30:20.765405Z",
     "iopub.status.busy": "2023-05-17T01:30:20.764940Z",
     "iopub.status.idle": "2023-05-17T01:30:20.784937Z",
     "shell.execute_reply": "2023-05-17T01:30:20.783439Z"
    },
    "papermill": {
     "duration": 0.060036,
     "end_time": "2023-05-17T01:30:20.787779",
     "exception": false,
     "start_time": "2023-05-17T01:30:20.727743",
     "status": "completed"
    },
    "tags": []
   },
   "outputs": [
    {
     "data": {
      "text/html": [
       "<div>\n",
       "<style scoped>\n",
       "    .dataframe tbody tr th:only-of-type {\n",
       "        vertical-align: middle;\n",
       "    }\n",
       "\n",
       "    .dataframe tbody tr th {\n",
       "        vertical-align: top;\n",
       "    }\n",
       "\n",
       "    .dataframe thead th {\n",
       "        text-align: right;\n",
       "    }\n",
       "</style>\n",
       "<table border=\"1\" class=\"dataframe\">\n",
       "  <thead>\n",
       "    <tr style=\"text-align: right;\">\n",
       "      <th></th>\n",
       "      <th>TV</th>\n",
       "      <th>radio</th>\n",
       "      <th>newspaper</th>\n",
       "      <th>sales</th>\n",
       "      <th>total_spend</th>\n",
       "    </tr>\n",
       "  </thead>\n",
       "  <tbody>\n",
       "    <tr>\n",
       "      <th>TV</th>\n",
       "      <td>1.000000</td>\n",
       "      <td>0.054809</td>\n",
       "      <td>0.056648</td>\n",
       "      <td>0.782224</td>\n",
       "      <td>0.981524</td>\n",
       "    </tr>\n",
       "    <tr>\n",
       "      <th>radio</th>\n",
       "      <td>0.054809</td>\n",
       "      <td>1.000000</td>\n",
       "      <td>0.354104</td>\n",
       "      <td>0.576223</td>\n",
       "      <td>0.243991</td>\n",
       "    </tr>\n",
       "    <tr>\n",
       "      <th>newspaper</th>\n",
       "      <td>0.056648</td>\n",
       "      <td>0.354104</td>\n",
       "      <td>1.000000</td>\n",
       "      <td>0.228299</td>\n",
       "      <td>0.122347</td>\n",
       "    </tr>\n",
       "    <tr>\n",
       "      <th>sales</th>\n",
       "      <td>0.782224</td>\n",
       "      <td>0.576223</td>\n",
       "      <td>0.228299</td>\n",
       "      <td>1.000000</td>\n",
       "      <td>0.875320</td>\n",
       "    </tr>\n",
       "    <tr>\n",
       "      <th>total_spend</th>\n",
       "      <td>0.981524</td>\n",
       "      <td>0.243991</td>\n",
       "      <td>0.122347</td>\n",
       "      <td>0.875320</td>\n",
       "      <td>1.000000</td>\n",
       "    </tr>\n",
       "  </tbody>\n",
       "</table>\n",
       "</div>"
      ],
      "text/plain": [
       "                   TV     radio  newspaper     sales  total_spend\n",
       "TV           1.000000  0.054809   0.056648  0.782224     0.981524\n",
       "radio        0.054809  1.000000   0.354104  0.576223     0.243991\n",
       "newspaper    0.056648  0.354104   1.000000  0.228299     0.122347\n",
       "sales        0.782224  0.576223   0.228299  1.000000     0.875320\n",
       "total_spend  0.981524  0.243991   0.122347  0.875320     1.000000"
      ]
     },
     "execution_count": 56,
     "metadata": {},
     "output_type": "execute_result"
    }
   ],
   "source": [
    "df2_cor=df.corr()\n",
    "df2_cor"
   ]
  },
  {
   "cell_type": "code",
   "execution_count": 57,
   "id": "378157e1",
   "metadata": {
    "execution": {
     "iopub.execute_input": "2023-05-17T01:30:20.863449Z",
     "iopub.status.busy": "2023-05-17T01:30:20.861905Z",
     "iopub.status.idle": "2023-05-17T01:30:21.128293Z",
     "shell.execute_reply": "2023-05-17T01:30:21.126858Z"
    },
    "papermill": {
     "duration": 0.30763,
     "end_time": "2023-05-17T01:30:21.131163",
     "exception": false,
     "start_time": "2023-05-17T01:30:20.823533",
     "status": "completed"
    },
    "tags": []
   },
   "outputs": [
    {
     "data": {
      "text/plain": [
       "{'whiskers': [<matplotlib.lines.Line2D at 0x794e2390cd50>,\n",
       "  <matplotlib.lines.Line2D at 0x794e2390cf90>,\n",
       "  <matplotlib.lines.Line2D at 0x794e2391f390>,\n",
       "  <matplotlib.lines.Line2D at 0x794e2391f690>,\n",
       "  <matplotlib.lines.Line2D at 0x794e238ada50>,\n",
       "  <matplotlib.lines.Line2D at 0x794e238addd0>,\n",
       "  <matplotlib.lines.Line2D at 0x794e238c6210>,\n",
       "  <matplotlib.lines.Line2D at 0x794e238c6550>,\n",
       "  <matplotlib.lines.Line2D at 0x794e238d2990>,\n",
       "  <matplotlib.lines.Line2D at 0x794e238d2c90>],\n",
       " 'caps': [<matplotlib.lines.Line2D at 0x794e23911310>,\n",
       "  <matplotlib.lines.Line2D at 0x794e23911650>,\n",
       "  <matplotlib.lines.Line2D at 0x794e2391f9d0>,\n",
       "  <matplotlib.lines.Line2D at 0x794e2391fd10>,\n",
       "  <matplotlib.lines.Line2D at 0x794e238b7150>,\n",
       "  <matplotlib.lines.Line2D at 0x794e238b74d0>,\n",
       "  <matplotlib.lines.Line2D at 0x794e238c6890>,\n",
       "  <matplotlib.lines.Line2D at 0x794e238c6bd0>,\n",
       "  <matplotlib.lines.Line2D at 0x794e238de050>,\n",
       "  <matplotlib.lines.Line2D at 0x794e238de310>],\n",
       " 'boxes': [<matplotlib.lines.Line2D at 0x794e2390c910>,\n",
       "  <matplotlib.lines.Line2D at 0x794e2391f050>,\n",
       "  <matplotlib.lines.Line2D at 0x794e238ad6d0>,\n",
       "  <matplotlib.lines.Line2D at 0x794e238b7e90>,\n",
       "  <matplotlib.lines.Line2D at 0x794e238d25d0>],\n",
       " 'medians': [<matplotlib.lines.Line2D at 0x794e239119d0>,\n",
       "  <matplotlib.lines.Line2D at 0x794e238ad090>,\n",
       "  <matplotlib.lines.Line2D at 0x794e238b7810>,\n",
       "  <matplotlib.lines.Line2D at 0x794e238c6f10>,\n",
       "  <matplotlib.lines.Line2D at 0x794e238de650>],\n",
       " 'fliers': [<matplotlib.lines.Line2D at 0x794e23911c90>,\n",
       "  <matplotlib.lines.Line2D at 0x794e238ad3d0>,\n",
       "  <matplotlib.lines.Line2D at 0x794e238b7b50>,\n",
       "  <matplotlib.lines.Line2D at 0x794e238d2290>,\n",
       "  <matplotlib.lines.Line2D at 0x794e238de9d0>],\n",
       " 'means': []}"
      ]
     },
     "execution_count": 57,
     "metadata": {},
     "output_type": "execute_result"
    },
    {
     "data": {
      "image/png": "[encoded data removed]",
      "text/plain": [
       "<Figure size 640x480 with 1 Axes>"
      ]
     },
     "metadata": {},
     "output_type": "display_data"
    }
   ],
   "source": [
    "plt.boxplot(df2_cor)"
   ]
  },
  {
   "cell_type": "code",
   "execution_count": 58,
   "id": "21afe7cd",
   "metadata": {
    "execution": {
     "iopub.execute_input": "2023-05-17T01:30:21.207339Z",
     "iopub.status.busy": "2023-05-17T01:30:21.205818Z",
     "iopub.status.idle": "2023-05-17T01:30:21.607811Z",
     "shell.execute_reply": "2023-05-17T01:30:21.606474Z"
    },
    "papermill": {
     "duration": 0.442788,
     "end_time": "2023-05-17T01:30:21.611207",
     "exception": false,
     "start_time": "2023-05-17T01:30:21.168419",
     "status": "completed"
    },
    "tags": []
   },
   "outputs": [
    {
     "data": {
      "image/png": "[encoded data removed]",
      "text/plain": [
       "<Figure size 640x480 with 1 Axes>"
      ]
     },
     "metadata": {},
     "output_type": "display_data"
    }
   ],
   "source": [
    "# Make a scatter plot of xs and ys, using labels to define the colors\n",
    "plt.scatter(df2['age'],df2['physical_score'],c=df2['test_result'],alpha=0.5)\n",
    "# Assign the cluster centers: centroids\n",
    "#centroids = kmeans.cluster_centers_\n",
    "# Assign the columns of centroids: centroids_x, centroids_y\n",
    "plt.legend()\n",
    "plt.show()"
   ]
  },
  {
   "cell_type": "code",
   "execution_count": 59,
   "id": "413b0a1b",
   "metadata": {
    "execution": {
     "iopub.execute_input": "2023-05-17T01:30:21.696388Z",
     "iopub.status.busy": "2023-05-17T01:30:21.695229Z",
     "iopub.status.idle": "2023-05-17T01:30:22.086294Z",
     "shell.execute_reply": "2023-05-17T01:30:22.084963Z"
    },
    "papermill": {
     "duration": 0.439624,
     "end_time": "2023-05-17T01:30:22.089104",
     "exception": false,
     "start_time": "2023-05-17T01:30:21.649480",
     "status": "completed"
    },
    "tags": []
   },
   "outputs": [
    {
     "data": {
      "text/plain": [
       "<AxesSubplot:>"
      ]
     },
     "execution_count": 59,
     "metadata": {},
     "output_type": "execute_result"
    },
    {
     "data": {
      "image/png": "[encoded data removed]",
      "text/plain": [
       "<Figure size 640x480 with 2 Axes>"
      ]
     },
     "metadata": {},
     "output_type": "display_data"
    }
   ],
   "source": [
    "sns.heatmap(df.corr(),annot=True)"
   ]
  },
  {
   "cell_type": "code",
   "execution_count": 60,
   "id": "b43cc447",
   "metadata": {
    "execution": {
     "iopub.execute_input": "2023-05-17T01:30:22.186814Z",
     "iopub.status.busy": "2023-05-17T01:30:22.186340Z",
     "iopub.status.idle": "2023-05-17T01:30:22.193580Z",
     "shell.execute_reply": "2023-05-17T01:30:22.192306Z"
    },
    "papermill": {
     "duration": 0.051786,
     "end_time": "2023-05-17T01:30:22.196251",
     "exception": false,
     "start_time": "2023-05-17T01:30:22.144465",
     "status": "completed"
    },
    "tags": []
   },
   "outputs": [],
   "source": [
    "X = df2.drop('test_result',axis=1)\n",
    "y = df2['test_result']"
   ]
  },
  {
   "cell_type": "code",
   "execution_count": 61,
   "id": "72226e5d",
   "metadata": {
    "execution": {
     "iopub.execute_input": "2023-05-17T01:30:22.277883Z",
     "iopub.status.busy": "2023-05-17T01:30:22.277401Z",
     "iopub.status.idle": "2023-05-17T01:30:22.961000Z",
     "shell.execute_reply": "2023-05-17T01:30:22.959663Z"
    },
    "papermill": {
     "duration": 0.727413,
     "end_time": "2023-05-17T01:30:22.964166",
     "exception": false,
     "start_time": "2023-05-17T01:30:22.236753",
     "status": "completed"
    },
    "tags": []
   },
   "outputs": [],
   "source": [
    "from imblearn.over_sampling import RandomOverSampler,SMOTE\n",
    "from imblearn.under_sampling import RandomUnderSampler"
   ]
  },
  {
   "cell_type": "code",
   "execution_count": 62,
   "id": "cbdcbc81",
   "metadata": {
    "execution": {
     "iopub.execute_input": "2023-05-17T01:30:23.045012Z",
     "iopub.status.busy": "2023-05-17T01:30:23.044561Z",
     "iopub.status.idle": "2023-05-17T01:30:23.064516Z",
     "shell.execute_reply": "2023-05-17T01:30:23.063237Z"
    },
    "papermill": {
     "duration": 0.064272,
     "end_time": "2023-05-17T01:30:23.067703",
     "exception": false,
     "start_time": "2023-05-17T01:30:23.003431",
     "status": "completed"
    },
    "tags": []
   },
   "outputs": [],
   "source": [
    "oversample = SMOTE()\n",
    "X, y = oversample.fit_resample(X, y)"
   ]
  },
  {
   "cell_type": "code",
   "execution_count": 63,
   "id": "552df92f",
   "metadata": {
    "execution": {
     "iopub.execute_input": "2023-05-17T01:30:23.148975Z",
     "iopub.status.busy": "2023-05-17T01:30:23.148524Z",
     "iopub.status.idle": "2023-05-17T01:30:23.163574Z",
     "shell.execute_reply": "2023-05-17T01:30:23.162491Z"
    },
    "papermill": {
     "duration": 0.058855,
     "end_time": "2023-05-17T01:30:23.166120",
     "exception": false,
     "start_time": "2023-05-17T01:30:23.107265",
     "status": "completed"
    },
    "tags": []
   },
   "outputs": [
    {
     "data": {
      "text/plain": [
       "array([[-1.76515175,  1.09146993],\n",
       "       [-0.28213057,  0.68268649],\n",
       "       [-0.10765749, -0.77725436],\n",
       "       ...,\n",
       "       [-0.02042095, -0.6237985 ],\n",
       "       [ 0.06681559, -0.44063196],\n",
       "       [-0.3708498 , -1.03420395]])"
      ]
     },
     "execution_count": 63,
     "metadata": {},
     "output_type": "execute_result"
    }
   ],
   "source": [
    "scaler = StandardScaler()\n",
    "X = scaler.fit_transform(X)\n",
    "X"
   ]
  },
  {
   "cell_type": "code",
   "execution_count": 64,
   "id": "4528e6b9",
   "metadata": {
    "execution": {
     "iopub.execute_input": "2023-05-17T01:30:23.248070Z",
     "iopub.status.busy": "2023-05-17T01:30:23.247632Z",
     "iopub.status.idle": "2023-05-17T01:30:23.255022Z",
     "shell.execute_reply": "2023-05-17T01:30:23.253928Z"
    },
    "papermill": {
     "duration": 0.051031,
     "end_time": "2023-05-17T01:30:23.257514",
     "exception": false,
     "start_time": "2023-05-17T01:30:23.206483",
     "status": "completed"
    },
    "tags": []
   },
   "outputs": [],
   "source": [
    "X_train, X_test, y_train, y_test = train_test_split(X, y, test_size=0.1, random_state=101)"
   ]
  },
  {
   "cell_type": "code",
   "execution_count": 65,
   "id": "0477bf42",
   "metadata": {
    "execution": {
     "iopub.execute_input": "2023-05-17T01:30:23.339272Z",
     "iopub.status.busy": "2023-05-17T01:30:23.338399Z",
     "iopub.status.idle": "2023-05-17T01:30:23.370170Z",
     "shell.execute_reply": "2023-05-17T01:30:23.367709Z"
    },
    "papermill": {
     "duration": 0.078613,
     "end_time": "2023-05-17T01:30:23.375452",
     "exception": false,
     "start_time": "2023-05-17T01:30:23.296839",
     "status": "completed"
    },
    "tags": []
   },
   "outputs": [
    {
     "data": {
      "text/plain": [
       "LogisticRegression()"
      ]
     },
     "execution_count": 65,
     "metadata": {},
     "output_type": "execute_result"
    }
   ],
   "source": [
    "from sklearn.linear_model import LogisticRegression\n",
    "log_model = LogisticRegression()\n",
    "log_model.fit(X_train,y_train)"
   ]
  },
  {
   "cell_type": "code",
   "execution_count": 66,
   "id": "d021df90",
   "metadata": {
    "execution": {
     "iopub.execute_input": "2023-05-17T01:30:23.513131Z",
     "iopub.status.busy": "2023-05-17T01:30:23.512680Z",
     "iopub.status.idle": "2023-05-17T01:30:23.518924Z",
     "shell.execute_reply": "2023-05-17T01:30:23.517373Z"
    },
    "papermill": {
     "duration": 0.060368,
     "end_time": "2023-05-17T01:30:23.521974",
     "exception": false,
     "start_time": "2023-05-17T01:30:23.461606",
     "status": "completed"
    },
    "tags": []
   },
   "outputs": [],
   "source": [
    "from sklearn.metrics import accuracy_score, classification_report"
   ]
  },
  {
   "cell_type": "code",
   "execution_count": 67,
   "id": "a7569fa1",
   "metadata": {
    "execution": {
     "iopub.execute_input": "2023-05-17T01:30:23.604828Z",
     "iopub.status.busy": "2023-05-17T01:30:23.603845Z",
     "iopub.status.idle": "2023-05-17T01:30:23.613826Z",
     "shell.execute_reply": "2023-05-17T01:30:23.612882Z"
    },
    "papermill": {
     "duration": 0.054598,
     "end_time": "2023-05-17T01:30:23.616254",
     "exception": false,
     "start_time": "2023-05-17T01:30:23.561656",
     "status": "completed"
    },
    "tags": []
   },
   "outputs": [
    {
     "data": {
      "text/plain": [
       "0.915"
      ]
     },
     "execution_count": 67,
     "metadata": {},
     "output_type": "execute_result"
    }
   ],
   "source": [
    "y_pred = log_model.predict(X_test)\n",
    "accuracy_score(y_test,y_pred)"
   ]
  },
  {
   "cell_type": "code",
   "execution_count": 68,
   "id": "e39d6fc8",
   "metadata": {
    "execution": {
     "iopub.execute_input": "2023-05-17T01:30:23.697492Z",
     "iopub.status.busy": "2023-05-17T01:30:23.696744Z",
     "iopub.status.idle": "2023-05-17T01:30:23.706167Z",
     "shell.execute_reply": "2023-05-17T01:30:23.704854Z"
    },
    "papermill": {
     "duration": 0.053514,
     "end_time": "2023-05-17T01:30:23.708774",
     "exception": false,
     "start_time": "2023-05-17T01:30:23.655260",
     "status": "completed"
    },
    "tags": []
   },
   "outputs": [
    {
     "data": {
      "text/plain": [
       "0.915"
      ]
     },
     "execution_count": 68,
     "metadata": {},
     "output_type": "execute_result"
    }
   ],
   "source": [
    "y_pred = log_model.predict(X_test)\n",
    "accuracy_score(y_test,y_pred)"
   ]
  },
  {
   "cell_type": "code",
   "execution_count": 69,
   "id": "0b9849eb",
   "metadata": {
    "execution": {
     "iopub.execute_input": "2023-05-17T01:30:23.791873Z",
     "iopub.status.busy": "2023-05-17T01:30:23.791083Z",
     "iopub.status.idle": "2023-05-17T01:30:23.803621Z",
     "shell.execute_reply": "2023-05-17T01:30:23.802022Z"
    },
    "papermill": {
     "duration": 0.057482,
     "end_time": "2023-05-17T01:30:23.806393",
     "exception": false,
     "start_time": "2023-05-17T01:30:23.748911",
     "status": "completed"
    },
    "tags": []
   },
   "outputs": [
    {
     "name": "stdout",
     "output_type": "stream",
     "text": [
      "              precision    recall  f1-score   support\n",
      "\n",
      "           0       0.94      0.88      0.91       281\n",
      "           1       0.90      0.95      0.92       319\n",
      "\n",
      "    accuracy                           0.92       600\n",
      "   macro avg       0.92      0.91      0.91       600\n",
      "weighted avg       0.92      0.92      0.91       600\n",
      "\n"
     ]
    }
   ],
   "source": [
    "print(classification_report(y_test,y_pred))"
   ]
  },
  {
   "cell_type": "code",
   "execution_count": 70,
   "id": "1e206315",
   "metadata": {
    "execution": {
     "iopub.execute_input": "2023-05-17T01:30:23.887433Z",
     "iopub.status.busy": "2023-05-17T01:30:23.886991Z",
     "iopub.status.idle": "2023-05-17T01:30:23.899595Z",
     "shell.execute_reply": "2023-05-17T01:30:23.897917Z"
    },
    "papermill": {
     "duration": 0.056418,
     "end_time": "2023-05-17T01:30:23.902442",
     "exception": false,
     "start_time": "2023-05-17T01:30:23.846024",
     "status": "completed"
    },
    "tags": []
   },
   "outputs": [
    {
     "name": "stdout",
     "output_type": "stream",
     "text": [
      "              precision    recall  f1-score   support\n",
      "\n",
      "           0       0.94      0.88      0.91       281\n",
      "           1       0.90      0.95      0.92       319\n",
      "\n",
      "    accuracy                           0.92       600\n",
      "   macro avg       0.92      0.91      0.91       600\n",
      "weighted avg       0.92      0.92      0.91       600\n",
      "\n"
     ]
    }
   ],
   "source": [
    "print(classification_report(y_test,y_pred))"
   ]
  }
 ],
 "metadata": {
  "kernelspec": {
   "display_name": "Python 3",
   "language": "python",
   "name": "python3"
  },
  "language_info": {
   "codemirror_mode": {
    "name": "ipython",
    "version": 3
   },
   "file_extension": ".py",
   "mimetype": "text/x-python",
   "name": "python",
   "nbconvert_exporter": "python",
   "pygments_lexer": "ipython3",
   "version": "3.7.12"
  },
  "papermill": {
   "default_parameters": {},
   "duration": 28.831495,
   "end_time": "2023-05-17T01:30:24.865592",
   "environment_variables": {},
   "exception": null,
   "input_path": "__notebook__.ipynb",
   "output_path": "__notebook__.ipynb",
   "parameters": {},
   "start_time": "2023-05-17T01:29:56.034097",
   "version": "2.4.0"
  }
 },
 "nbformat": 4,
 "nbformat_minor": 5
}
